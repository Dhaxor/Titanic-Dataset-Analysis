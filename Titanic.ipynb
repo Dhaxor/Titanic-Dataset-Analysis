{
 "cells": [
  {
   "cell_type": "code",
   "execution_count": 401,
   "metadata": {},
   "outputs": [
    {
     "data": {
      "text/html": [
       "<div>\n",
       "<style scoped>\n",
       "    .dataframe tbody tr th:only-of-type {\n",
       "        vertical-align: middle;\n",
       "    }\n",
       "\n",
       "    .dataframe tbody tr th {\n",
       "        vertical-align: top;\n",
       "    }\n",
       "\n",
       "    .dataframe thead th {\n",
       "        text-align: right;\n",
       "    }\n",
       "</style>\n",
       "<table border=\"1\" class=\"dataframe\">\n",
       "  <thead>\n",
       "    <tr style=\"text-align: right;\">\n",
       "      <th></th>\n",
       "      <th>traveller_ID</th>\n",
       "      <th>ticket_class</th>\n",
       "      <th>name</th>\n",
       "      <th>sex</th>\n",
       "      <th>age</th>\n",
       "      <th>Siblings_spouses</th>\n",
       "      <th>Parchil</th>\n",
       "      <th>TickNum</th>\n",
       "      <th>fare</th>\n",
       "      <th>cabin</th>\n",
       "      <th>embarked</th>\n",
       "      <th>MedBoat</th>\n",
       "      <th>Survived</th>\n",
       "    </tr>\n",
       "  </thead>\n",
       "  <tbody>\n",
       "    <tr>\n",
       "      <td>0</td>\n",
       "      <td>1214</td>\n",
       "      <td>3</td>\n",
       "      <td>Smiljanic, Mr. Mile</td>\n",
       "      <td>male</td>\n",
       "      <td>NaN</td>\n",
       "      <td>0</td>\n",
       "      <td>0</td>\n",
       "      <td>315037</td>\n",
       "      <td>8.6625</td>\n",
       "      <td>NaN</td>\n",
       "      <td>S</td>\n",
       "      <td>NaN</td>\n",
       "      <td>0</td>\n",
       "    </tr>\n",
       "    <tr>\n",
       "      <td>1</td>\n",
       "      <td>677</td>\n",
       "      <td>3</td>\n",
       "      <td>Bostandyeff, Mr. Guentcho</td>\n",
       "      <td>male</td>\n",
       "      <td>26.0</td>\n",
       "      <td>0</td>\n",
       "      <td>0</td>\n",
       "      <td>349224</td>\n",
       "      <td>7.8958</td>\n",
       "      <td>NaN</td>\n",
       "      <td>S</td>\n",
       "      <td>NaN</td>\n",
       "      <td>0</td>\n",
       "    </tr>\n",
       "    <tr>\n",
       "      <td>2</td>\n",
       "      <td>534</td>\n",
       "      <td>2</td>\n",
       "      <td>Phillips, Miss. Kate Florence (\"Mrs Kate Louis...</td>\n",
       "      <td>female</td>\n",
       "      <td>19.0</td>\n",
       "      <td>0</td>\n",
       "      <td>0</td>\n",
       "      <td>250655</td>\n",
       "      <td>26.0000</td>\n",
       "      <td>NaN</td>\n",
       "      <td>S</td>\n",
       "      <td>11</td>\n",
       "      <td>1</td>\n",
       "    </tr>\n",
       "    <tr>\n",
       "      <td>3</td>\n",
       "      <td>1174</td>\n",
       "      <td>3</td>\n",
       "      <td>Sage, Miss. Dorothy Edith \"Dolly\"</td>\n",
       "      <td>female</td>\n",
       "      <td>NaN</td>\n",
       "      <td>8</td>\n",
       "      <td>2</td>\n",
       "      <td>CA. 2343</td>\n",
       "      <td>69.5500</td>\n",
       "      <td>NaN</td>\n",
       "      <td>S</td>\n",
       "      <td>NaN</td>\n",
       "      <td>0</td>\n",
       "    </tr>\n",
       "    <tr>\n",
       "      <td>4</td>\n",
       "      <td>864</td>\n",
       "      <td>3</td>\n",
       "      <td>Henriksson, Miss. Jenny Lovisa</td>\n",
       "      <td>female</td>\n",
       "      <td>28.0</td>\n",
       "      <td>0</td>\n",
       "      <td>0</td>\n",
       "      <td>347086</td>\n",
       "      <td>7.7750</td>\n",
       "      <td>NaN</td>\n",
       "      <td>S</td>\n",
       "      <td>NaN</td>\n",
       "      <td>0</td>\n",
       "    </tr>\n",
       "    <tr>\n",
       "      <td>...</td>\n",
       "      <td>...</td>\n",
       "      <td>...</td>\n",
       "      <td>...</td>\n",
       "      <td>...</td>\n",
       "      <td>...</td>\n",
       "      <td>...</td>\n",
       "      <td>...</td>\n",
       "      <td>...</td>\n",
       "      <td>...</td>\n",
       "      <td>...</td>\n",
       "      <td>...</td>\n",
       "      <td>...</td>\n",
       "      <td>...</td>\n",
       "    </tr>\n",
       "    <tr>\n",
       "      <td>911</td>\n",
       "      <td>1095</td>\n",
       "      <td>3</td>\n",
       "      <td>O'Sullivan, Miss. Bridget Mary</td>\n",
       "      <td>female</td>\n",
       "      <td>NaN</td>\n",
       "      <td>0</td>\n",
       "      <td>0</td>\n",
       "      <td>330909</td>\n",
       "      <td>7.6292</td>\n",
       "      <td>NaN</td>\n",
       "      <td>Q</td>\n",
       "      <td>NaN</td>\n",
       "      <td>0</td>\n",
       "    </tr>\n",
       "    <tr>\n",
       "      <td>912</td>\n",
       "      <td>1130</td>\n",
       "      <td>3</td>\n",
       "      <td>Pettersson, Miss. Ellen Natalia</td>\n",
       "      <td>female</td>\n",
       "      <td>18.0</td>\n",
       "      <td>0</td>\n",
       "      <td>0</td>\n",
       "      <td>347087</td>\n",
       "      <td>7.7750</td>\n",
       "      <td>NaN</td>\n",
       "      <td>S</td>\n",
       "      <td>NaN</td>\n",
       "      <td>0</td>\n",
       "    </tr>\n",
       "    <tr>\n",
       "      <td>913</td>\n",
       "      <td>1294</td>\n",
       "      <td>3</td>\n",
       "      <td>Williams, Mr. Leslie</td>\n",
       "      <td>male</td>\n",
       "      <td>28.5</td>\n",
       "      <td>0</td>\n",
       "      <td>0</td>\n",
       "      <td>54636</td>\n",
       "      <td>16.1000</td>\n",
       "      <td>NaN</td>\n",
       "      <td>S</td>\n",
       "      <td>NaN</td>\n",
       "      <td>0</td>\n",
       "    </tr>\n",
       "    <tr>\n",
       "      <td>914</td>\n",
       "      <td>860</td>\n",
       "      <td>3</td>\n",
       "      <td>Heikkinen, Miss. Laina</td>\n",
       "      <td>female</td>\n",
       "      <td>26.0</td>\n",
       "      <td>0</td>\n",
       "      <td>0</td>\n",
       "      <td>STON/O2. 3101282</td>\n",
       "      <td>7.9250</td>\n",
       "      <td>NaN</td>\n",
       "      <td>S</td>\n",
       "      <td>NaN</td>\n",
       "      <td>1</td>\n",
       "    </tr>\n",
       "    <tr>\n",
       "      <td>915</td>\n",
       "      <td>1126</td>\n",
       "      <td>3</td>\n",
       "      <td>Petranec, Miss. Matilda</td>\n",
       "      <td>female</td>\n",
       "      <td>28.0</td>\n",
       "      <td>0</td>\n",
       "      <td>0</td>\n",
       "      <td>349245</td>\n",
       "      <td>7.8958</td>\n",
       "      <td>NaN</td>\n",
       "      <td>S</td>\n",
       "      <td>NaN</td>\n",
       "      <td>0</td>\n",
       "    </tr>\n",
       "  </tbody>\n",
       "</table>\n",
       "<p>916 rows × 13 columns</p>\n",
       "</div>"
      ],
      "text/plain": [
       "     traveller_ID  ticket_class  \\\n",
       "0            1214             3   \n",
       "1             677             3   \n",
       "2             534             2   \n",
       "3            1174             3   \n",
       "4             864             3   \n",
       "..            ...           ...   \n",
       "911          1095             3   \n",
       "912          1130             3   \n",
       "913          1294             3   \n",
       "914           860             3   \n",
       "915          1126             3   \n",
       "\n",
       "                                                  name     sex   age  \\\n",
       "0                                  Smiljanic, Mr. Mile    male   NaN   \n",
       "1                            Bostandyeff, Mr. Guentcho    male  26.0   \n",
       "2    Phillips, Miss. Kate Florence (\"Mrs Kate Louis...  female  19.0   \n",
       "3                    Sage, Miss. Dorothy Edith \"Dolly\"  female   NaN   \n",
       "4                       Henriksson, Miss. Jenny Lovisa  female  28.0   \n",
       "..                                                 ...     ...   ...   \n",
       "911                     O'Sullivan, Miss. Bridget Mary  female   NaN   \n",
       "912                    Pettersson, Miss. Ellen Natalia  female  18.0   \n",
       "913                               Williams, Mr. Leslie    male  28.5   \n",
       "914                             Heikkinen, Miss. Laina  female  26.0   \n",
       "915                            Petranec, Miss. Matilda  female  28.0   \n",
       "\n",
       "     Siblings_spouses  Parchil           TickNum     fare cabin embarked  \\\n",
       "0                   0        0            315037   8.6625   NaN        S   \n",
       "1                   0        0            349224   7.8958   NaN        S   \n",
       "2                   0        0            250655  26.0000   NaN        S   \n",
       "3                   8        2          CA. 2343  69.5500   NaN        S   \n",
       "4                   0        0            347086   7.7750   NaN        S   \n",
       "..                ...      ...               ...      ...   ...      ...   \n",
       "911                 0        0            330909   7.6292   NaN        Q   \n",
       "912                 0        0            347087   7.7750   NaN        S   \n",
       "913                 0        0             54636  16.1000   NaN        S   \n",
       "914                 0        0  STON/O2. 3101282   7.9250   NaN        S   \n",
       "915                 0        0            349245   7.8958   NaN        S   \n",
       "\n",
       "    MedBoat  Survived  \n",
       "0       NaN         0  \n",
       "1       NaN         0  \n",
       "2        11         1  \n",
       "3       NaN         0  \n",
       "4       NaN         0  \n",
       "..      ...       ...  \n",
       "911     NaN         0  \n",
       "912     NaN         0  \n",
       "913     NaN         0  \n",
       "914     NaN         1  \n",
       "915     NaN         0  \n",
       "\n",
       "[916 rows x 13 columns]"
      ]
     },
     "execution_count": 401,
     "metadata": {},
     "output_type": "execute_result"
    }
   ],
   "source": [
    "import numpy as np\n",
    "import pandas as pd\n",
    "import matplotlib.pyplot as plt\n",
    "import seaborn as sns\n",
    "%matplotlib inline\n",
    "import warnings\n",
    "warnings.simplefilter('ignore')\n",
    "\n",
    "dataset= pd.read_csv('./mytest/train.csv')\n",
    "\n",
    "dataset_test = pd.read_csv('./mytest/test.csv')\n",
    "dataset"
   ]
  },
  {
   "cell_type": "code",
   "execution_count": 402,
   "metadata": {},
   "outputs": [
    {
     "data": {
      "text/html": [
       "<div>\n",
       "<style scoped>\n",
       "    .dataframe tbody tr th:only-of-type {\n",
       "        vertical-align: middle;\n",
       "    }\n",
       "\n",
       "    .dataframe tbody tr th {\n",
       "        vertical-align: top;\n",
       "    }\n",
       "\n",
       "    .dataframe thead th {\n",
       "        text-align: right;\n",
       "    }\n",
       "</style>\n",
       "<table border=\"1\" class=\"dataframe\">\n",
       "  <thead>\n",
       "    <tr style=\"text-align: right;\">\n",
       "      <th></th>\n",
       "      <th>traveller_ID</th>\n",
       "      <th>ticket_class</th>\n",
       "      <th>name</th>\n",
       "      <th>sex</th>\n",
       "      <th>age</th>\n",
       "      <th>Siblings_spouses</th>\n",
       "      <th>Parchil</th>\n",
       "      <th>TickNum</th>\n",
       "      <th>fare</th>\n",
       "      <th>cabin</th>\n",
       "      <th>embarked</th>\n",
       "      <th>MedBoat</th>\n",
       "      <th>Survived</th>\n",
       "    </tr>\n",
       "  </thead>\n",
       "  <tbody>\n",
       "    <tr>\n",
       "      <td>0</td>\n",
       "      <td>False</td>\n",
       "      <td>False</td>\n",
       "      <td>False</td>\n",
       "      <td>False</td>\n",
       "      <td>True</td>\n",
       "      <td>False</td>\n",
       "      <td>False</td>\n",
       "      <td>False</td>\n",
       "      <td>False</td>\n",
       "      <td>True</td>\n",
       "      <td>False</td>\n",
       "      <td>True</td>\n",
       "      <td>False</td>\n",
       "    </tr>\n",
       "    <tr>\n",
       "      <td>1</td>\n",
       "      <td>False</td>\n",
       "      <td>False</td>\n",
       "      <td>False</td>\n",
       "      <td>False</td>\n",
       "      <td>False</td>\n",
       "      <td>False</td>\n",
       "      <td>False</td>\n",
       "      <td>False</td>\n",
       "      <td>False</td>\n",
       "      <td>True</td>\n",
       "      <td>False</td>\n",
       "      <td>True</td>\n",
       "      <td>False</td>\n",
       "    </tr>\n",
       "    <tr>\n",
       "      <td>2</td>\n",
       "      <td>False</td>\n",
       "      <td>False</td>\n",
       "      <td>False</td>\n",
       "      <td>False</td>\n",
       "      <td>False</td>\n",
       "      <td>False</td>\n",
       "      <td>False</td>\n",
       "      <td>False</td>\n",
       "      <td>False</td>\n",
       "      <td>True</td>\n",
       "      <td>False</td>\n",
       "      <td>False</td>\n",
       "      <td>False</td>\n",
       "    </tr>\n",
       "    <tr>\n",
       "      <td>3</td>\n",
       "      <td>False</td>\n",
       "      <td>False</td>\n",
       "      <td>False</td>\n",
       "      <td>False</td>\n",
       "      <td>True</td>\n",
       "      <td>False</td>\n",
       "      <td>False</td>\n",
       "      <td>False</td>\n",
       "      <td>False</td>\n",
       "      <td>True</td>\n",
       "      <td>False</td>\n",
       "      <td>True</td>\n",
       "      <td>False</td>\n",
       "    </tr>\n",
       "    <tr>\n",
       "      <td>4</td>\n",
       "      <td>False</td>\n",
       "      <td>False</td>\n",
       "      <td>False</td>\n",
       "      <td>False</td>\n",
       "      <td>False</td>\n",
       "      <td>False</td>\n",
       "      <td>False</td>\n",
       "      <td>False</td>\n",
       "      <td>False</td>\n",
       "      <td>True</td>\n",
       "      <td>False</td>\n",
       "      <td>True</td>\n",
       "      <td>False</td>\n",
       "    </tr>\n",
       "    <tr>\n",
       "      <td>...</td>\n",
       "      <td>...</td>\n",
       "      <td>...</td>\n",
       "      <td>...</td>\n",
       "      <td>...</td>\n",
       "      <td>...</td>\n",
       "      <td>...</td>\n",
       "      <td>...</td>\n",
       "      <td>...</td>\n",
       "      <td>...</td>\n",
       "      <td>...</td>\n",
       "      <td>...</td>\n",
       "      <td>...</td>\n",
       "      <td>...</td>\n",
       "    </tr>\n",
       "    <tr>\n",
       "      <td>911</td>\n",
       "      <td>False</td>\n",
       "      <td>False</td>\n",
       "      <td>False</td>\n",
       "      <td>False</td>\n",
       "      <td>True</td>\n",
       "      <td>False</td>\n",
       "      <td>False</td>\n",
       "      <td>False</td>\n",
       "      <td>False</td>\n",
       "      <td>True</td>\n",
       "      <td>False</td>\n",
       "      <td>True</td>\n",
       "      <td>False</td>\n",
       "    </tr>\n",
       "    <tr>\n",
       "      <td>912</td>\n",
       "      <td>False</td>\n",
       "      <td>False</td>\n",
       "      <td>False</td>\n",
       "      <td>False</td>\n",
       "      <td>False</td>\n",
       "      <td>False</td>\n",
       "      <td>False</td>\n",
       "      <td>False</td>\n",
       "      <td>False</td>\n",
       "      <td>True</td>\n",
       "      <td>False</td>\n",
       "      <td>True</td>\n",
       "      <td>False</td>\n",
       "    </tr>\n",
       "    <tr>\n",
       "      <td>913</td>\n",
       "      <td>False</td>\n",
       "      <td>False</td>\n",
       "      <td>False</td>\n",
       "      <td>False</td>\n",
       "      <td>False</td>\n",
       "      <td>False</td>\n",
       "      <td>False</td>\n",
       "      <td>False</td>\n",
       "      <td>False</td>\n",
       "      <td>True</td>\n",
       "      <td>False</td>\n",
       "      <td>True</td>\n",
       "      <td>False</td>\n",
       "    </tr>\n",
       "    <tr>\n",
       "      <td>914</td>\n",
       "      <td>False</td>\n",
       "      <td>False</td>\n",
       "      <td>False</td>\n",
       "      <td>False</td>\n",
       "      <td>False</td>\n",
       "      <td>False</td>\n",
       "      <td>False</td>\n",
       "      <td>False</td>\n",
       "      <td>False</td>\n",
       "      <td>True</td>\n",
       "      <td>False</td>\n",
       "      <td>True</td>\n",
       "      <td>False</td>\n",
       "    </tr>\n",
       "    <tr>\n",
       "      <td>915</td>\n",
       "      <td>False</td>\n",
       "      <td>False</td>\n",
       "      <td>False</td>\n",
       "      <td>False</td>\n",
       "      <td>False</td>\n",
       "      <td>False</td>\n",
       "      <td>False</td>\n",
       "      <td>False</td>\n",
       "      <td>False</td>\n",
       "      <td>True</td>\n",
       "      <td>False</td>\n",
       "      <td>True</td>\n",
       "      <td>False</td>\n",
       "    </tr>\n",
       "  </tbody>\n",
       "</table>\n",
       "<p>916 rows × 13 columns</p>\n",
       "</div>"
      ],
      "text/plain": [
       "     traveller_ID  ticket_class   name    sex    age  Siblings_spouses  \\\n",
       "0           False         False  False  False   True             False   \n",
       "1           False         False  False  False  False             False   \n",
       "2           False         False  False  False  False             False   \n",
       "3           False         False  False  False   True             False   \n",
       "4           False         False  False  False  False             False   \n",
       "..            ...           ...    ...    ...    ...               ...   \n",
       "911         False         False  False  False   True             False   \n",
       "912         False         False  False  False  False             False   \n",
       "913         False         False  False  False  False             False   \n",
       "914         False         False  False  False  False             False   \n",
       "915         False         False  False  False  False             False   \n",
       "\n",
       "     Parchil  TickNum   fare  cabin  embarked  MedBoat  Survived  \n",
       "0      False    False  False   True     False     True     False  \n",
       "1      False    False  False   True     False     True     False  \n",
       "2      False    False  False   True     False    False     False  \n",
       "3      False    False  False   True     False     True     False  \n",
       "4      False    False  False   True     False     True     False  \n",
       "..       ...      ...    ...    ...       ...      ...       ...  \n",
       "911    False    False  False   True     False     True     False  \n",
       "912    False    False  False   True     False     True     False  \n",
       "913    False    False  False   True     False     True     False  \n",
       "914    False    False  False   True     False     True     False  \n",
       "915    False    False  False   True     False     True     False  \n",
       "\n",
       "[916 rows x 13 columns]"
      ]
     },
     "execution_count": 402,
     "metadata": {},
     "output_type": "execute_result"
    }
   ],
   "source": [
    "dataset.isnull()"
   ]
  },
  {
   "cell_type": "code",
   "execution_count": 403,
   "metadata": {},
   "outputs": [
    {
     "data": {
      "text/plain": [
       "<matplotlib.axes._subplots.AxesSubplot at 0x7f04b76bfad0>"
      ]
     },
     "execution_count": 403,
     "metadata": {},
     "output_type": "execute_result"
    },
    {
     "data": {
      "image/png": "[encoded data removed]",
      "text/plain": [
       "<Figure size 432x288 with 1 Axes>"
      ]
     },
     "metadata": {
      "needs_background": "light"
     },
     "output_type": "display_data"
    }
   ],
   "source": [
    "sns.heatmap(dataset_test.isnull(),yticklabels=False,cbar = False,cmap = 'viridis')"
   ]
  },
  {
   "cell_type": "code",
   "execution_count": 404,
   "metadata": {},
   "outputs": [],
   "source": [
    "sns.set_style('whitegrid')"
   ]
  },
  {
   "cell_type": "code",
   "execution_count": 405,
   "metadata": {},
   "outputs": [
    {
     "data": {
      "text/plain": [
       "<matplotlib.axes._subplots.AxesSubplot at 0x7f04b760e790>"
      ]
     },
     "execution_count": 405,
     "metadata": {},
     "output_type": "execute_result"
    },
    {
     "data": {
      "image/png": "[encoded data removed]",
      "text/plain": [
       "<Figure size 432x288 with 1 Axes>"
      ]
     },
     "metadata": {},
     "output_type": "display_data"
    }
   ],
   "source": [
    "sns.countplot(x= 'Survived',hue = 'ticket_class', data = dataset)"
   ]
  },
  {
   "cell_type": "code",
   "execution_count": 406,
   "metadata": {},
   "outputs": [
    {
     "data": {
      "text/plain": [
       "<matplotlib.axes._subplots.AxesSubplot at 0x7f04b75fad10>"
      ]
     },
     "execution_count": 406,
     "metadata": {},
     "output_type": "execute_result"
    },
    {
     "data": {
      "image/png": "[encoded data removed]",
      "text/plain": [
       "<Figure size 432x288 with 1 Axes>"
      ]
     },
     "metadata": {},
     "output_type": "display_data"
    }
   ],
   "source": [
    "sns.distplot(dataset['age'].dropna(),kde=False,bins =30)"
   ]
  },
  {
   "cell_type": "code",
   "execution_count": 439,
   "metadata": {},
   "outputs": [
    {
     "data": {
      "text/plain": [
       "<matplotlib.axes._subplots.AxesSubplot at 0x7f04b76bb910>"
      ]
     },
     "execution_count": 439,
     "metadata": {},
     "output_type": "execute_result"
    },
    {
     "data": {
      "image/png": "[encoded data removed]",
      "text/plain": [
       "<Figure size 432x288 with 1 Axes>"
      ]
     },
     "metadata": {},
     "output_type": "display_data"
    }
   ],
   "source": [
    "sns.distplot(dataset_test['age'].dropna(),kde=False,bins =30)"
   ]
  },
  {
   "cell_type": "code",
   "execution_count": 440,
   "metadata": {},
   "outputs": [
    {
     "data": {
      "text/plain": [
       "<matplotlib.axes._subplots.AxesSubplot at 0x7f04b6a223d0>"
      ]
     },
     "execution_count": 440,
     "metadata": {},
     "output_type": "execute_result"
    },
    {
     "data": {
      "image/png": "[encoded data removed]",
      "text/plain": [
       "<Figure size 432x288 with 1 Axes>"
      ]
     },
     "metadata": {},
     "output_type": "display_data"
    }
   ],
   "source": [
    "dataset['age'].plot.hist()"
   ]
  },
  {
   "cell_type": "code",
   "execution_count": 441,
   "metadata": {},
   "outputs": [
    {
     "name": "stdout",
     "output_type": "stream",
     "text": [
      "<class 'pandas.core.frame.DataFrame'>\n",
      "Int64Index: 914 entries, 0 to 915\n",
      "Data columns (total 9 columns):\n",
      "ticket_class        914 non-null int64\n",
      "age                 914 non-null float64\n",
      "Siblings_spouses    914 non-null int64\n",
      "Parchil             914 non-null int64\n",
      "fare                914 non-null float64\n",
      "Survived            914 non-null int64\n",
      "male                392 non-null float64\n",
      "Q                   914 non-null uint8\n",
      "S                   914 non-null uint8\n",
      "dtypes: float64(3), int64(4), uint8(2)\n",
      "memory usage: 58.9 KB\n"
     ]
    }
   ],
   "source": [
    "dataset.info()"
   ]
  },
  {
   "cell_type": "code",
   "execution_count": 442,
   "metadata": {},
   "outputs": [
    {
     "data": {
      "text/plain": [
       "<matplotlib.axes._subplots.AxesSubplot at 0x7f04b6a2be10>"
      ]
     },
     "execution_count": 442,
     "metadata": {},
     "output_type": "execute_result"
    },
    {
     "data": {
      "image/png": "[encoded data removed]",
      "text/plain": [
       "<Figure size 432x288 with 1 Axes>"
      ]
     },
     "metadata": {},
     "output_type": "display_data"
    }
   ],
   "source": [
    " sns.countplot(x= 'Siblings_spouses',data = dataset)"
   ]
  },
  {
   "cell_type": "code",
   "execution_count": 443,
   "metadata": {},
   "outputs": [
    {
     "data": {
      "text/plain": [
       "<matplotlib.axes._subplots.AxesSubplot at 0x7f04b6913d10>"
      ]
     },
     "execution_count": 443,
     "metadata": {},
     "output_type": "execute_result"
    },
    {
     "data": {
      "image/png": "[encoded data removed]",
      "text/plain": [
       "<Figure size 1440x288 with 1 Axes>"
      ]
     },
     "metadata": {},
     "output_type": "display_data"
    }
   ],
   "source": [
    "dataset['fare'].hist(bins = 40,figsize =(20,4))"
   ]
  },
  {
   "cell_type": "code",
   "execution_count": 444,
   "metadata": {},
   "outputs": [],
   "source": [
    "import cufflinks as cf"
   ]
  },
  {
   "cell_type": "code",
   "execution_count": 445,
   "metadata": {},
   "outputs": [
    {
     "data": {
      "text/html": [
       "        <script type=\"text/javascript\">\n",
       "        window.PlotlyConfig = {MathJaxConfig: 'local'};\n",
       "        if (window.MathJax) {MathJax.Hub.Config({SVG: {font: \"STIX-Web\"}});}\n",
       "        if (typeof require !== 'undefined') {\n",
       "        require.undef(\"plotly\");\n",
       "        requirejs.config({\n",
       "            paths: {\n",
       "                'plotly': ['https://cdn.plot.ly/plotly-latest.min']\n",
       "            }\n",
       "        });\n",
       "        require(['plotly'], function(Plotly) {\n",
       "            window._Plotly = Plotly;\n",
       "        });\n",
       "        }\n",
       "        </script>\n",
       "        "
      ]
     },
     "metadata": {},
     "output_type": "display_data"
    }
   ],
   "source": [
    "cf.go_offline()"
   ]
  },
  {
   "cell_type": "code",
   "execution_count": 446,
   "metadata": {},
   "outputs": [
    {
     "data": {
      "application/vnd.plotly.v1+json": {
       "config": {
        "linkText": "Export to plot.ly",
        "plotlyServerURL": "https://plot.ly",
        "showLink": true
       },
       "data": [
        {
         "histfunc": "count",
         "histnorm": "",
         "marker": {
          "color": "rgba(255, 153, 51, 1.0)",
          "line": {
           "color": "#4D5663",
           "width": 1.3
          }
         },
         "name": "fare",
         "nbinsx": 30,
         "opacity": 0.8,
         "orientation": "v",
         "type": "histogram",
         "x": [
          8.6625,
          7.8958,
          26,
          69.55,
          7.775,
          11.1333,
          7.25,
          6.95,
          8.4583,
          7.7333,
          13,
          9.5,
          8.05,
          26.55,
          7.2292,
          8.05,
          7.225,
          23.25,
          10.5,
          50.4958,
          35.5,
          27.7208,
          15.1,
          7.8542,
          28.5,
          164.8667,
          8.6625,
          7.55,
          73.5,
          20.2125,
          14.4542,
          7.55,
          151.55,
          263,
          8.05,
          16.1,
          7.7417,
          8.6625,
          7.0542,
          10.5,
          21,
          37.0042,
          211.5,
          21.075,
          134.5,
          7.8542,
          13,
          26.55,
          56.9292,
          13,
          16.1,
          7.65,
          15.75,
          34.375,
          13,
          7.775,
          26,
          8.6625,
          73.5,
          66.6,
          10.5,
          7.75,
          8.9625,
          26,
          262.375,
          34.375,
          86.5,
          10.5,
          42.4,
          69.3,
          46.9,
          8.6625,
          27.7208,
          18.75,
          23.45,
          69.55,
          7.2292,
          7.75,
          7.7958,
          6.4375,
          7.4958,
          31.275,
          7.8958,
          34.375,
          8.6625,
          7.75,
          29.125,
          7.8958,
          134.5,
          26,
          21,
          227.525,
          8.05,
          7.05,
          151.55,
          77.9583,
          30,
          164.8667,
          8.1375,
          31.3875,
          27.75,
          7.75,
          8.7125,
          113.275,
          14.4542,
          4.0125,
          91.0792,
          7.7958,
          9.5875,
          8.05,
          16.1,
          7.7375,
          7.925,
          10.5,
          7.8875,
          8.6625,
          26,
          29.125,
          8.4333,
          26,
          26,
          26,
          26.2875,
          221.7792,
          7.775,
          120,
          39.6875,
          113.275,
          27.7208,
          56.4958,
          15.0458,
          136.7792,
          20.25,
          26.55,
          12.1833,
          10.5,
          8.05,
          7.8792,
          7.8542,
          13.7917,
          31.275,
          7.25,
          13,
          78.85,
          57,
          7.225,
          26,
          55.4417,
          29,
          13.5,
          8.6625,
          7.25,
          106.425,
          27.75,
          19.9667,
          14.4583,
          82.1708,
          18,
          9.5,
          21,
          7.225,
          18.7875,
          7.4958,
          0,
          512.3292,
          30,
          7.8958,
          26.55,
          56.4958,
          26,
          10.5,
          41.5792,
          90,
          26.55,
          77.2875,
          7.125,
          21,
          10.5,
          247.5208,
          9.225,
          9.825,
          8.05,
          15.5,
          7.7208,
          7.25,
          7.75,
          7.75,
          512.3292,
          7.75,
          13,
          39.6,
          15.55,
          14.1083,
          26.55,
          16.1,
          7.8542,
          262.375,
          7.8958,
          8.1125,
          136.7792,
          81.8583,
          14.4583,
          26.55,
          13.4167,
          13,
          13,
          7.75,
          7.8792,
          69.55,
          83.1583,
          71.2833,
          8.05,
          71,
          12.275,
          22.3583,
          7.7958,
          26.25,
          7.8958,
          7.225,
          13,
          29.125,
          7.25,
          6.45,
          78.2667,
          8.05,
          7.8958,
          7.05,
          61.175,
          55.4417,
          7.65,
          211.3375,
          0,
          76.7292,
          7.8958,
          26,
          26.55,
          15.5,
          262.375,
          9.8417,
          49.5042,
          23,
          69.3,
          27.75,
          13,
          7.225,
          24.15,
          26,
          27,
          7.4958,
          55.4417,
          19.5,
          27.9,
          15.0333,
          52.5542,
          14.5,
          9.5,
          7.2292,
          7.8208,
          7.225,
          0,
          6.95,
          7.75,
          13,
          26,
          7.925,
          7.7375,
          23.45,
          31,
          7.75,
          26,
          8.05,
          7.7333,
          7.7333,
          10.5,
          16.1,
          8.05,
          7.8542,
          8.5167,
          65,
          15.05,
          13.775,
          66.6,
          7.75,
          108.9,
          14.5,
          29.7,
          25.7,
          83.475,
          8.05,
          9.35,
          19.9667,
          8.6625,
          89.1042,
          22.025,
          10.5,
          69.55,
          13,
          7.925,
          13,
          7.2292,
          13,
          73.5,
          211.3375,
          29,
          7.7958,
          26,
          22.3583,
          15.2458,
          7.25,
          0,
          8.1583,
          26,
          13,
          0,
          17.4,
          10.5,
          52,
          24.15,
          25.9292,
          7.8958,
          21,
          262.375,
          55,
          59.4,
          33.5,
          7.25,
          11.5,
          7.8542,
          9.5875,
          13,
          6.975,
          13,
          15.5792,
          8.05,
          26,
          13.5,
          26.55,
          135.6333,
          26,
          211.3375,
          24.15,
          7.75,
          28.7125,
          15.85,
          7.8542,
          211.5,
          36.75,
          8.05,
          7.2292,
          15.0458,
          151.55,
          21.075,
          23,
          19.2583,
          0,
          8.05,
          113.275,
          52,
          79.2,
          7.75,
          7.65,
          8.05,
          26.55,
          27.7208,
          7.2833,
          110.8833,
          27.9,
          13,
          7.25,
          69.55,
          15.2458,
          33,
          21,
          221.7792,
          7.925,
          34.375,
          15.2458,
          8.6625,
          26,
          7.8792,
          14.5,
          11.5,
          15.9,
          14.4542,
          13,
          35.5,
          7.8542,
          52,
          73.5,
          23,
          7.75,
          51.8625,
          76.2917,
          39.6875,
          7.775,
          7.225,
          7.2292,
          12.875,
          78.85,
          82.2667,
          8.6625,
          30.5,
          7.75,
          6.75,
          26,
          7.925,
          55,
          15.9,
          15.2458,
          7.225,
          8.05,
          7.75,
          15.0458,
          7.8958,
          7.0458,
          16.1,
          45.5,
          26,
          31.5,
          7.775,
          9.5,
          6.4958,
          8.05,
          11.5,
          13,
          26,
          52,
          24.15,
          26,
          7.8958,
          7.05,
          263,
          10.5,
          20.25,
          7.65,
          7.75,
          52,
          7.8792,
          8.05,
          8.05,
          13.5,
          7.2292,
          15.5,
          8.05,
          227.525,
          23,
          11.1333,
          13,
          51.4792,
          7.7333,
          90,
          26,
          13,
          8.3625,
          30.6958,
          7.75,
          13,
          7.7958,
          21,
          7.8958,
          56.4958,
          7.25,
          9.5,
          14.1083,
          9,
          57.9792,
          14.4583,
          57.75,
          21.075,
          12.525,
          10.4625,
          25.925,
          26,
          24,
          7.8958,
          7.2292,
          8.05,
          7.8958,
          39.6875,
          27.7208,
          26.55,
          7.75,
          39.6,
          9.8458,
          16.1,
          10.5,
          9.5,
          30,
          13,
          15.9,
          7.8542,
          7.8958,
          9.35,
          7,
          39,
          33,
          7.775,
          26,
          82.1708,
          7.8958,
          7.2292,
          81.8583,
          7.2292,
          29.7,
          29.125,
          8.6625,
          71.2833,
          26.25,
          9.4833,
          83.1583,
          25.5875,
          7.25,
          7.225,
          7.225,
          21,
          23,
          7.75,
          39.4,
          82.2667,
          39.6875,
          7.8542,
          135.6333,
          12.35,
          14.5,
          36.75,
          56.9292,
          7.775,
          69.55,
          7.75,
          7.8958,
          30.0708,
          7.8542,
          7.8542,
          13.775,
          9.825,
          7.925,
          53.1,
          7.2292,
          46.9,
          263,
          0,
          8.6625,
          39.6875,
          120,
          20.25,
          7.775,
          46.9,
          133.65,
          15.85,
          7.8958,
          8.05,
          31.6792,
          17.8,
          26,
          60,
          15.85,
          7.75,
          22.025,
          7.85,
          7.225,
          31,
          13,
          14.4542,
          7.8958,
          8.6625,
          86.5,
          83.1583,
          151.55,
          8.3,
          13,
          47.1,
          55.9,
          7.725,
          73.5,
          8.6625,
          7.75,
          7.925,
          8.05,
          8.05,
          75.25,
          39,
          8.05,
          211.5,
          83.475,
          79.2,
          7.7333,
          21,
          8.6625,
          7.2292,
          512.3292,
          8.05,
          25.4667,
          7.6292,
          7.7958,
          8.05,
          26,
          15.2458,
          79.2,
          12.35,
          7.05,
          7.8792,
          7.2292,
          32.5,
          9.6875,
          7.2292,
          35.5,
          75.2417,
          15.5,
          262.375,
          7.05,
          23.45,
          13,
          46.9,
          69.55,
          26,
          7.75,
          8.05,
          12.2875,
          13,
          17.4,
          7.575,
          15.7417,
          30.5,
          51.8625,
          86.5,
          34.375,
          21.6792,
          7.775,
          7.775,
          13.9,
          26,
          93.5,
          15.5,
          7.25,
          7.925,
          16.1,
          65,
          16.1,
          247.5208,
          53.1,
          14.4542,
          7.8542,
          8.05,
          77.9583,
          7.75,
          7.8542,
          7.925,
          211.3375,
          34.0208,
          13,
          8.05,
          7.3125,
          13,
          26,
          51.8625,
          247.5208,
          13,
          19.2583,
          9.225,
          7.8958,
          21.075,
          7.925,
          8.05,
          27.7208,
          7.75,
          93.5,
          91.0792,
          65,
          9,
          108.9,
          26.55,
          14.4,
          7.75,
          12.35,
          7.775,
          7.2292,
          7.8542,
          8.05,
          31.3875,
          8.6625,
          14.4542,
          16.7,
          7.75,
          57.9792,
          25.4667,
          20.525,
          13.775,
          7.925,
          7.7958,
          30,
          15.1,
          26,
          21.075,
          227.525,
          26,
          8.05,
          47.1,
          76.7292,
          13,
          90,
          14.4542,
          51.4792,
          8.05,
          7.775,
          26,
          262.375,
          0,
          29.125,
          7.8958,
          9.225,
          31.275,
          13,
          7.875,
          55.9,
          0,
          12.35,
          31.3875,
          8.6625,
          7.925,
          18.75,
          14.4542,
          26,
          9.325,
          76.7292,
          13.8583,
          25.4667,
          7.925,
          19.2583,
          31.5,
          27.7208,
          7.25,
          55.4417,
          7.8958,
          7.5792,
          53.1,
          7.8542,
          26.55,
          52,
          16.7,
          32.5,
          49.5,
          26.2875,
          8.05,
          59.4,
          7.225,
          10.4625,
          0,
          6.8583,
          25.7417,
          31.3875,
          151.55,
          263,
          8.6625,
          7.8958,
          7.775,
          14.5,
          69.55,
          16,
          8.1125,
          7.8958,
          9.5,
          61.3792,
          7.225,
          7.75,
          56.4958,
          31.275,
          31.275,
          18,
          27.9,
          7.225,
          7.7958,
          7.75,
          26,
          15.2458,
          21,
          8.7125,
          13.8625,
          8.05,
          26,
          14.4,
          27.9,
          10.5,
          81.8583,
          7.8958,
          10.5,
          8.05,
          7.8958,
          8.6542,
          8.05,
          90,
          27.7208,
          12.475,
          7.925,
          26,
          7.8958,
          8.05,
          24.15,
          31.3875,
          9.35,
          6.4375,
          7.75,
          15.5,
          106.425,
          7.75,
          26,
          19.5,
          15.5,
          11.2417,
          7.75,
          7.75,
          75.2417,
          89.1042,
          8.05,
          39.6,
          7.775,
          93.5,
          26.25,
          25.9292,
          10.5,
          27.7208,
          27.75,
          7.75,
          7.8542,
          7.225,
          14.5,
          13.8625,
          53.1,
          30,
          69.55,
          7.925,
          37.0042,
          26.25,
          39.4,
          20.575,
          26.2833,
          7.2292,
          7.75,
          7.925,
          26,
          8.05,
          110.8833,
          7.75,
          26,
          14.5,
          26,
          7.8958,
          51.8625,
          77.9583,
          7.8958,
          13.8583,
          7.75,
          7.775,
          13,
          7.8958,
          12.475,
          39.6875,
          26.55,
          26.55,
          7.2292,
          14,
          6.4958,
          57,
          7.775,
          13,
          7.75,
          50,
          78.85,
          26.55,
          7.55,
          36.75,
          30.6958,
          8.85,
          52.5542,
          31.3875,
          8.05,
          46.9,
          24.15,
          12.35,
          18,
          7.725,
          25.4667,
          30,
          16.1,
          8.6625,
          10.5,
          3.1708,
          10.5,
          7.75,
          14.4,
          262.375,
          52.5542,
          27,
          21.6792,
          146.5208,
          25.4667,
          7.75,
          36.75,
          56.4958,
          13,
          7.25,
          59.4,
          7.75,
          22.3583,
          30.5,
          13,
          7.7958,
          26,
          133.65,
          15.5,
          7.6292,
          7.775,
          16.1,
          7.925,
          7.8958
         ]
        }
       ],
       "layout": {
        "barmode": "overlay",
        "legend": {
         "bgcolor": "#F5F6F9",
         "font": {
          "color": "#4D5663"
         }
        },
        "paper_bgcolor": "#F5F6F9",
        "plot_bgcolor": "#F5F6F9",
        "template": {
         "data": {
          "bar": [
           {
            "error_x": {
             "color": "#2a3f5f"
            },
            "error_y": {
             "color": "#2a3f5f"
            },
            "marker": {
             "line": {
              "color": "#E5ECF6",
              "width": 0.5
             }
            },
            "type": "bar"
           }
          ],
          "barpolar": [
           {
            "marker": {
             "line": {
              "color": "#E5ECF6",
              "width": 0.5
             }
            },
            "type": "barpolar"
           }
          ],
          "carpet": [
           {
            "aaxis": {
             "endlinecolor": "#2a3f5f",
             "gridcolor": "white",
             "linecolor": "white",
             "minorgridcolor": "white",
             "startlinecolor": "#2a3f5f"
            },
            "baxis": {
             "endlinecolor": "#2a3f5f",
             "gridcolor": "white",
             "linecolor": "white",
             "minorgridcolor": "white",
             "startlinecolor": "#2a3f5f"
            },
            "type": "carpet"
           }
          ],
          "choropleth": [
           {
            "colorbar": {
             "outlinewidth": 0,
             "ticks": ""
            },
            "type": "choropleth"
           }
          ],
          "contour": [
           {
            "colorbar": {
             "outlinewidth": 0,
             "ticks": ""
            },
            "colorscale": [
             [
              0,
              "#0d0887"
             ],
             [
              0.1111111111111111,
              "#46039f"
             ],
             [
              0.2222222222222222,
              "#7201a8"
             ],
             [
              0.3333333333333333,
              "#9c179e"
             ],
             [
              0.4444444444444444,
              "#bd3786"
             ],
             [
              0.5555555555555556,
              "#d8576b"
             ],
             [
              0.6666666666666666,
              "#ed7953"
             ],
             [
              0.7777777777777778,
              "#fb9f3a"
             ],
             [
              0.8888888888888888,
              "#fdca26"
             ],
             [
              1,
              "#f0f921"
             ]
            ],
            "type": "contour"
           }
          ],
          "contourcarpet": [
           {
            "colorbar": {
             "outlinewidth": 0,
             "ticks": ""
            },
            "type": "contourcarpet"
           }
          ],
          "heatmap": [
           {
            "colorbar": {
             "outlinewidth": 0,
             "ticks": ""
            },
            "colorscale": [
             [
              0,
              "#0d0887"
             ],
             [
              0.1111111111111111,
              "#46039f"
             ],
             [
              0.2222222222222222,
              "#7201a8"
             ],
             [
              0.3333333333333333,
              "#9c179e"
             ],
             [
              0.4444444444444444,
              "#bd3786"
             ],
             [
              0.5555555555555556,
              "#d8576b"
             ],
             [
              0.6666666666666666,
              "#ed7953"
             ],
             [
              0.7777777777777778,
              "#fb9f3a"
             ],
             [
              0.8888888888888888,
              "#fdca26"
             ],
             [
              1,
              "#f0f921"
             ]
            ],
            "type": "heatmap"
           }
          ],
          "heatmapgl": [
           {
            "colorbar": {
             "outlinewidth": 0,
             "ticks": ""
            },
            "colorscale": [
             [
              0,
              "#0d0887"
             ],
             [
              0.1111111111111111,
              "#46039f"
             ],
             [
              0.2222222222222222,
              "#7201a8"
             ],
             [
              0.3333333333333333,
              "#9c179e"
             ],
             [
              0.4444444444444444,
              "#bd3786"
             ],
             [
              0.5555555555555556,
              "#d8576b"
             ],
             [
              0.6666666666666666,
              "#ed7953"
             ],
             [
              0.7777777777777778,
              "#fb9f3a"
             ],
             [
              0.8888888888888888,
              "#fdca26"
             ],
             [
              1,
              "#f0f921"
             ]
            ],
            "type": "heatmapgl"
           }
          ],
          "histogram": [
           {
            "marker": {
             "colorbar": {
              "outlinewidth": 0,
              "ticks": ""
             }
            },
            "type": "histogram"
           }
          ],
          "histogram2d": [
           {
            "colorbar": {
             "outlinewidth": 0,
             "ticks": ""
            },
            "colorscale": [
             [
              0,
              "#0d0887"
             ],
             [
              0.1111111111111111,
              "#46039f"
             ],
             [
              0.2222222222222222,
              "#7201a8"
             ],
             [
              0.3333333333333333,
              "#9c179e"
             ],
             [
              0.4444444444444444,
              "#bd3786"
             ],
             [
              0.5555555555555556,
              "#d8576b"
             ],
             [
              0.6666666666666666,
              "#ed7953"
             ],
             [
              0.7777777777777778,
              "#fb9f3a"
             ],
             [
              0.8888888888888888,
              "#fdca26"
             ],
             [
              1,
              "#f0f921"
             ]
            ],
            "type": "histogram2d"
           }
          ],
          "histogram2dcontour": [
           {
            "colorbar": {
             "outlinewidth": 0,
             "ticks": ""
            },
            "colorscale": [
             [
              0,
              "#0d0887"
             ],
             [
              0.1111111111111111,
              "#46039f"
             ],
             [
              0.2222222222222222,
              "#7201a8"
             ],
             [
              0.3333333333333333,
              "#9c179e"
             ],
             [
              0.4444444444444444,
              "#bd3786"
             ],
             [
              0.5555555555555556,
              "#d8576b"
             ],
             [
              0.6666666666666666,
              "#ed7953"
             ],
             [
              0.7777777777777778,
              "#fb9f3a"
             ],
             [
              0.8888888888888888,
              "#fdca26"
             ],
             [
              1,
              "#f0f921"
             ]
            ],
            "type": "histogram2dcontour"
           }
          ],
          "mesh3d": [
           {
            "colorbar": {
             "outlinewidth": 0,
             "ticks": ""
            },
            "type": "mesh3d"
           }
          ],
          "parcoords": [
           {
            "line": {
             "colorbar": {
              "outlinewidth": 0,
              "ticks": ""
             }
            },
            "type": "parcoords"
           }
          ],
          "pie": [
           {
            "automargin": true,
            "type": "pie"
           }
          ],
          "scatter": [
           {
            "marker": {
             "colorbar": {
              "outlinewidth": 0,
              "ticks": ""
             }
            },
            "type": "scatter"
           }
          ],
          "scatter3d": [
           {
            "line": {
             "colorbar": {
              "outlinewidth": 0,
              "ticks": ""
             }
            },
            "marker": {
             "colorbar": {
              "outlinewidth": 0,
              "ticks": ""
             }
            },
            "type": "scatter3d"
           }
          ],
          "scattercarpet": [
           {
            "marker": {
             "colorbar": {
              "outlinewidth": 0,
              "ticks": ""
             }
            },
            "type": "scattercarpet"
           }
          ],
          "scattergeo": [
           {
            "marker": {
             "colorbar": {
              "outlinewidth": 0,
              "ticks": ""
             }
            },
            "type": "scattergeo"
           }
          ],
          "scattergl": [
           {
            "marker": {
             "colorbar": {
              "outlinewidth": 0,
              "ticks": ""
             }
            },
            "type": "scattergl"
           }
          ],
          "scattermapbox": [
           {
            "marker": {
             "colorbar": {
              "outlinewidth": 0,
              "ticks": ""
             }
            },
            "type": "scattermapbox"
           }
          ],
          "scatterpolar": [
           {
            "marker": {
             "colorbar": {
              "outlinewidth": 0,
              "ticks": ""
             }
            },
            "type": "scatterpolar"
           }
          ],
          "scatterpolargl": [
           {
            "marker": {
             "colorbar": {
              "outlinewidth": 0,
              "ticks": ""
             }
            },
            "type": "scatterpolargl"
           }
          ],
          "scatterternary": [
           {
            "marker": {
             "colorbar": {
              "outlinewidth": 0,
              "ticks": ""
             }
            },
            "type": "scatterternary"
           }
          ],
          "surface": [
           {
            "colorbar": {
             "outlinewidth": 0,
             "ticks": ""
            },
            "colorscale": [
             [
              0,
              "#0d0887"
             ],
             [
              0.1111111111111111,
              "#46039f"
             ],
             [
              0.2222222222222222,
              "#7201a8"
             ],
             [
              0.3333333333333333,
              "#9c179e"
             ],
             [
              0.4444444444444444,
              "#bd3786"
             ],
             [
              0.5555555555555556,
              "#d8576b"
             ],
             [
              0.6666666666666666,
              "#ed7953"
             ],
             [
              0.7777777777777778,
              "#fb9f3a"
             ],
             [
              0.8888888888888888,
              "#fdca26"
             ],
             [
              1,
              "#f0f921"
             ]
            ],
            "type": "surface"
           }
          ],
          "table": [
           {
            "cells": {
             "fill": {
              "color": "#EBF0F8"
             },
             "line": {
              "color": "white"
             }
            },
            "header": {
             "fill": {
              "color": "#C8D4E3"
             },
             "line": {
              "color": "white"
             }
            },
            "type": "table"
           }
          ]
         },
         "layout": {
          "annotationdefaults": {
           "arrowcolor": "#2a3f5f",
           "arrowhead": 0,
           "arrowwidth": 1
          },
          "coloraxis": {
           "colorbar": {
            "outlinewidth": 0,
            "ticks": ""
           }
          },
          "colorscale": {
           "diverging": [
            [
             0,
             "#8e0152"
            ],
            [
             0.1,
             "#c51b7d"
            ],
            [
             0.2,
             "#de77ae"
            ],
            [
             0.3,
             "#f1b6da"
            ],
            [
             0.4,
             "#fde0ef"
            ],
            [
             0.5,
             "#f7f7f7"
            ],
            [
             0.6,
             "#e6f5d0"
            ],
            [
             0.7,
             "#b8e186"
            ],
            [
             0.8,
             "#7fbc41"
            ],
            [
             0.9,
             "#4d9221"
            ],
            [
             1,
             "#276419"
            ]
           ],
           "sequential": [
            [
             0,
             "#0d0887"
            ],
            [
             0.1111111111111111,
             "#46039f"
            ],
            [
             0.2222222222222222,
             "#7201a8"
            ],
            [
             0.3333333333333333,
             "#9c179e"
            ],
            [
             0.4444444444444444,
             "#bd3786"
            ],
            [
             0.5555555555555556,
             "#d8576b"
            ],
            [
             0.6666666666666666,
             "#ed7953"
            ],
            [
             0.7777777777777778,
             "#fb9f3a"
            ],
            [
             0.8888888888888888,
             "#fdca26"
            ],
            [
             1,
             "#f0f921"
            ]
           ],
           "sequentialminus": [
            [
             0,
             "#0d0887"
            ],
            [
             0.1111111111111111,
             "#46039f"
            ],
            [
             0.2222222222222222,
             "#7201a8"
            ],
            [
             0.3333333333333333,
             "#9c179e"
            ],
            [
             0.4444444444444444,
             "#bd3786"
            ],
            [
             0.5555555555555556,
             "#d8576b"
            ],
            [
             0.6666666666666666,
             "#ed7953"
            ],
            [
             0.7777777777777778,
             "#fb9f3a"
            ],
            [
             0.8888888888888888,
             "#fdca26"
            ],
            [
             1,
             "#f0f921"
            ]
           ]
          },
          "colorway": [
           "#636efa",
           "#EF553B",
           "#00cc96",
           "#ab63fa",
           "#FFA15A",
           "#19d3f3",
           "#FF6692",
           "#B6E880",
           "#FF97FF",
           "#FECB52"
          ],
          "font": {
           "color": "#2a3f5f"
          },
          "geo": {
           "bgcolor": "white",
           "lakecolor": "white",
           "landcolor": "#E5ECF6",
           "showlakes": true,
           "showland": true,
           "subunitcolor": "white"
          },
          "hoverlabel": {
           "align": "left"
          },
          "hovermode": "closest",
          "mapbox": {
           "style": "light"
          },
          "paper_bgcolor": "white",
          "plot_bgcolor": "#E5ECF6",
          "polar": {
           "angularaxis": {
            "gridcolor": "white",
            "linecolor": "white",
            "ticks": ""
           },
           "bgcolor": "#E5ECF6",
           "radialaxis": {
            "gridcolor": "white",
            "linecolor": "white",
            "ticks": ""
           }
          },
          "scene": {
           "xaxis": {
            "backgroundcolor": "#E5ECF6",
            "gridcolor": "white",
            "gridwidth": 2,
            "linecolor": "white",
            "showbackground": true,
            "ticks": "",
            "zerolinecolor": "white"
           },
           "yaxis": {
            "backgroundcolor": "#E5ECF6",
            "gridcolor": "white",
            "gridwidth": 2,
            "linecolor": "white",
            "showbackground": true,
            "ticks": "",
            "zerolinecolor": "white"
           },
           "zaxis": {
            "backgroundcolor": "#E5ECF6",
            "gridcolor": "white",
            "gridwidth": 2,
            "linecolor": "white",
            "showbackground": true,
            "ticks": "",
            "zerolinecolor": "white"
           }
          },
          "shapedefaults": {
           "line": {
            "color": "#2a3f5f"
           }
          },
          "ternary": {
           "aaxis": {
            "gridcolor": "white",
            "linecolor": "white",
            "ticks": ""
           },
           "baxis": {
            "gridcolor": "white",
            "linecolor": "white",
            "ticks": ""
           },
           "bgcolor": "#E5ECF6",
           "caxis": {
            "gridcolor": "white",
            "linecolor": "white",
            "ticks": ""
           }
          },
          "title": {
           "x": 0.05
          },
          "xaxis": {
           "automargin": true,
           "gridcolor": "white",
           "linecolor": "white",
           "ticks": "",
           "title": {
            "standoff": 15
           },
           "zerolinecolor": "white",
           "zerolinewidth": 2
          },
          "yaxis": {
           "automargin": true,
           "gridcolor": "white",
           "linecolor": "white",
           "ticks": "",
           "title": {
            "standoff": 15
           },
           "zerolinecolor": "white",
           "zerolinewidth": 2
          }
         }
        },
        "title": {
         "font": {
          "color": "#4D5663"
         }
        },
        "xaxis": {
         "gridcolor": "#E1E5ED",
         "showgrid": true,
         "tickfont": {
          "color": "#4D5663"
         },
         "title": {
          "font": {
           "color": "#4D5663"
          },
          "text": ""
         },
         "zerolinecolor": "#E1E5ED"
        },
        "yaxis": {
         "gridcolor": "#E1E5ED",
         "showgrid": true,
         "tickfont": {
          "color": "#4D5663"
         },
         "title": {
          "font": {
           "color": "#4D5663"
          },
          "text": ""
         },
         "zerolinecolor": "#E1E5ED"
        }
       }
      },
      "text/html": [
       "<div>\n",
       "        \n",
       "        \n",
       "            <div id=\"69bf3457-1507-44fe-a9e4-94404b0433c7\" class=\"plotly-graph-div\" style=\"height:525px; width:100%;\"></div>\n",
       "            <script type=\"text/javascript\">\n",
       "                require([\"plotly\"], function(Plotly) {\n",
       "                    window.PLOTLYENV=window.PLOTLYENV || {};\n",
       "                    window.PLOTLYENV.BASE_URL='https://plot.ly';\n",
       "                    \n",
       "                if (document.getElementById(\"69bf3457-1507-44fe-a9e4-94404b0433c7\")) {\n",
       "                    Plotly.newPlot(\n",
       "                        '69bf3457-1507-44fe-a9e4-94404b0433c7',\n",
       "                        [{\"histfunc\": \"count\", \"histnorm\": \"\", \"marker\": {\"color\": \"rgba(255, 153, 51, 1.0)\", \"line\": {\"color\": \"#4D5663\", \"width\": 1.3}}, \"name\": \"fare\", \"nbinsx\": 30, \"opacity\": 0.8, \"orientation\": \"v\", \"type\": \"histogram\", \"x\": [8.6625, 7.8958, 26.0, 69.55, 7.775, 11.1333, 7.25, 6.95, 8.4583, 7.7333, 13.0, 9.5, 8.05, 26.55, 7.2292, 8.05, 7.225, 23.25, 10.5, 50.4958, 35.5, 27.7208, 15.1, 7.8542, 28.5, 164.8667, 8.6625, 7.55, 73.5, 20.2125, 14.4542, 7.55, 151.55, 263.0, 8.05, 16.1, 7.7417, 8.6625, 7.0542, 10.5, 21.0, 37.0042, 211.5, 21.075, 134.5, 7.8542, 13.0, 26.55, 56.9292, 13.0, 16.1, 7.65, 15.75, 34.375, 13.0, 7.775, 26.0, 8.6625, 73.5, 66.6, 10.5, 7.75, 8.9625, 26.0, 262.375, 34.375, 86.5, 10.5, 42.4, 69.3, 46.9, 8.6625, 27.7208, 18.75, 23.45, 69.55, 7.2292, 7.75, 7.7958, 6.4375, 7.4958, 31.275, 7.8958, 34.375, 8.6625, 7.75, 29.125, 7.8958, 134.5, 26.0, 21.0, 227.525, 8.05, 7.05, 151.55, 77.9583, 30.0, 164.8667, 8.1375, 31.3875, 27.75, 7.75, 8.7125, 113.275, 14.4542, 4.0125, 91.0792, 7.7958, 9.5875, 8.05, 16.1, 7.7375, 7.925, 10.5, 7.8875, 8.6625, 26.0, 29.125, 8.4333, 26.0, 26.0, 26.0, 26.2875, 221.7792, 7.775, 120.0, 39.6875, 113.275, 27.7208, 56.4958, 15.0458, 136.7792, 20.25, 26.55, 12.1833, 10.5, 8.05, 7.8792, 7.8542, 13.7917, 31.275, 7.25, 13.0, 78.85, 57.0, 7.225, 26.0, 55.4417, 29.0, 13.5, 8.6625, 7.25, 106.425, 27.75, 19.9667, 14.4583, 82.1708, 18.0, 9.5, 21.0, 7.225, 18.7875, 7.4958, 0.0, 512.3292, 30.0, 7.8958, 26.55, 56.4958, 26.0, 10.5, 41.5792, 90.0, 26.55, 77.2875, 7.125, 21.0, 10.5, 247.5208, 9.225, 9.825, 8.05, 15.5, 7.7208, 7.25, 7.75, 7.75, 512.3292, 7.75, 13.0, 39.6, 15.55, 14.1083, 26.55, 16.1, 7.8542, 262.375, 7.8958, 8.1125, 136.7792, 81.8583, 14.4583, 26.55, 13.4167, 13.0, 13.0, 7.75, 7.8792, 69.55, 83.1583, 71.2833, 8.05, 71.0, 12.275, 22.3583, 7.7958, 26.25, 7.8958, 7.225, 13.0, 29.125, 7.25, 6.45, 78.2667, 8.05, 7.8958, 7.05, 61.175, 55.4417, 7.65, 211.3375, 0.0, 76.7292, 7.8958, 26.0, 26.55, 15.5, 262.375, 9.8417, 49.5042, 23.0, 69.3, 27.75, 13.0, 7.225, 24.15, 26.0, 27.0, 7.4958, 55.4417, 19.5, 27.9, 15.0333, 52.5542, 14.5, 9.5, 7.2292, 7.8208, 7.225, 0.0, 6.95, 7.75, 13.0, 26.0, 7.925, 7.7375, 23.45, 31.0, 7.75, 26.0, 8.05, 7.7333, 7.7333, 10.5, 16.1, 8.05, 7.8542, 8.5167, 65.0, 15.05, 13.775, 66.6, 7.75, 108.9, 14.5, 29.7, 25.7, 83.475, 8.05, 9.35, 19.9667, 8.6625, 89.1042, 22.025, 10.5, 69.55, 13.0, 7.925, 13.0, 7.2292, 13.0, 73.5, 211.3375, 29.0, 7.7958, 26.0, 22.3583, 15.2458, 7.25, 0.0, 8.1583, 26.0, 13.0, 0.0, 17.4, 10.5, 52.0, 24.15, 25.9292, 7.8958, 21.0, 262.375, 55.0, 59.4, 33.5, 7.25, 11.5, 7.8542, 9.5875, 13.0, 6.975, 13.0, 15.5792, 8.05, 26.0, 13.5, 26.55, 135.6333, 26.0, 211.3375, 24.15, 7.75, 28.7125, 15.85, 7.8542, 211.5, 36.75, 8.05, 7.2292, 15.0458, 151.55, 21.075, 23.0, 19.2583, 0.0, 8.05, 113.275, 52.0, 79.2, 7.75, 7.65, 8.05, 26.55, 27.7208, 7.2833, 110.8833, 27.9, 13.0, 7.25, 69.55, 15.2458, 33.0, 21.0, 221.7792, 7.925, 34.375, 15.2458, 8.6625, 26.0, 7.8792, 14.5, 11.5, 15.9, 14.4542, 13.0, 35.5, 7.8542, 52.0, 73.5, 23.0, 7.75, 51.8625, 76.2917, 39.6875, 7.775, 7.225, 7.2292, 12.875, 78.85, 82.2667, 8.6625, 30.5, 7.75, 6.75, 26.0, 7.925, 55.0, 15.9, 15.2458, 7.225, 8.05, 7.75, 15.0458, 7.8958, 7.0458, 16.1, 45.5, 26.0, 31.5, 7.775, 9.5, 6.4958, 8.05, 11.5, 13.0, 26.0, 52.0, 24.15, 26.0, 7.8958, 7.05, 263.0, 10.5, 20.25, 7.65, 7.75, 52.0, 7.8792, 8.05, 8.05, 13.5, 7.2292, 15.5, 8.05, 227.525, 23.0, 11.1333, 13.0, 51.4792, 7.7333, 90.0, 26.0, 13.0, 8.3625, 30.6958, 7.75, 13.0, 7.7958, 21.0, 7.8958, 56.4958, 7.25, 9.5, 14.1083, 9.0, 57.9792, 14.4583, 57.75, 21.075, 12.525, 10.4625, 25.925, 26.0, 24.0, 7.8958, 7.2292, 8.05, 7.8958, 39.6875, 27.7208, 26.55, 7.75, 39.6, 9.8458, 16.1, 10.5, 9.5, 30.0, 13.0, 15.9, 7.8542, 7.8958, 9.35, 7.0, 39.0, 33.0, 7.775, 26.0, 82.1708, 7.8958, 7.2292, 81.8583, 7.2292, 29.7, 29.125, 8.6625, 71.2833, 26.25, 9.4833, 83.1583, 25.5875, 7.25, 7.225, 7.225, 21.0, 23.0, 7.75, 39.4, 82.2667, 39.6875, 7.8542, 135.6333, 12.35, 14.5, 36.75, 56.9292, 7.775, 69.55, 7.75, 7.8958, 30.0708, 7.8542, 7.8542, 13.775, 9.825, 7.925, 53.1, 7.2292, 46.9, 263.0, 0.0, 8.6625, 39.6875, 120.0, 20.25, 7.775, 46.9, 133.65, 15.85, 7.8958, 8.05, 31.6792, 17.8, 26.0, 60.0, 15.85, 7.75, 22.025, 7.85, 7.225, 31.0, 13.0, 14.4542, 7.8958, 8.6625, 86.5, 83.1583, 151.55, 8.3, 13.0, 47.1, 55.9, 7.725, 73.5, 8.6625, 7.75, 7.925, 8.05, 8.05, 75.25, 39.0, 8.05, 211.5, 83.475, 79.2, 7.7333, 21.0, 8.6625, 7.2292, 512.3292, 8.05, 25.4667, 7.6292, 7.7958, 8.05, 26.0, 15.2458, 79.2, 12.35, 7.05, 7.8792, 7.2292, 32.5, 9.6875, 7.2292, 35.5, 75.2417, 15.5, 262.375, 7.05, 23.45, 13.0, 46.9, 69.55, 26.0, 7.75, 8.05, 12.2875, 13.0, 17.4, 7.575, 15.7417, 30.5, 51.8625, 86.5, 34.375, 21.6792, 7.775, 7.775, 13.9, 26.0, 93.5, 15.5, 7.25, 7.925, 16.1, 65.0, 16.1, 247.5208, 53.1, 14.4542, 7.8542, 8.05, 77.9583, 7.75, 7.8542, 7.925, 211.3375, 34.0208, 13.0, 8.05, 7.3125, 13.0, 26.0, 51.8625, 247.5208, 13.0, 19.2583, 9.225, 7.8958, 21.075, 7.925, 8.05, 27.7208, 7.75, 93.5, 91.0792, 65.0, 9.0, 108.9, 26.55, 14.4, 7.75, 12.35, 7.775, 7.2292, 7.8542, 8.05, 31.3875, 8.6625, 14.4542, 16.7, 7.75, 57.9792, 25.4667, 20.525, 13.775, 7.925, 7.7958, 30.0, 15.1, 26.0, 21.075, 227.525, 26.0, 8.05, 47.1, 76.7292, 13.0, 90.0, 14.4542, 51.4792, 8.05, 7.775, 26.0, 262.375, 0.0, 29.125, 7.8958, 9.225, 31.275, 13.0, 7.875, 55.9, 0.0, 12.35, 31.3875, 8.6625, 7.925, 18.75, 14.4542, 26.0, 9.325, 76.7292, 13.8583, 25.4667, 7.925, 19.2583, 31.5, 27.7208, 7.25, 55.4417, 7.8958, 7.5792, 53.1, 7.8542, 26.55, 52.0, 16.7, 32.5, 49.5, 26.2875, 8.05, 59.4, 7.225, 10.4625, 0.0, 6.8583, 25.7417, 31.3875, 151.55, 263.0, 8.6625, 7.8958, 7.775, 14.5, 69.55, 16.0, 8.1125, 7.8958, 9.5, 61.3792, 7.225, 7.75, 56.4958, 31.275, 31.275, 18.0, 27.9, 7.225, 7.7958, 7.75, 26.0, 15.2458, 21.0, 8.7125, 13.8625, 8.05, 26.0, 14.4, 27.9, 10.5, 81.8583, 7.8958, 10.5, 8.05, 7.8958, 8.6542, 8.05, 90.0, 27.7208, 12.475, 7.925, 26.0, 7.8958, 8.05, 24.15, 31.3875, 9.35, 6.4375, 7.75, 15.5, 106.425, 7.75, 26.0, 19.5, 15.5, 11.2417, 7.75, 7.75, 75.2417, 89.1042, 8.05, 39.6, 7.775, 93.5, 26.25, 25.9292, 10.5, 27.7208, 27.75, 7.75, 7.8542, 7.225, 14.5, 13.8625, 53.1, 30.0, 69.55, 7.925, 37.0042, 26.25, 39.4, 20.575, 26.2833, 7.2292, 7.75, 7.925, 26.0, 8.05, 110.8833, 7.75, 26.0, 14.5, 26.0, 7.8958, 51.8625, 77.9583, 7.8958, 13.8583, 7.75, 7.775, 13.0, 7.8958, 12.475, 39.6875, 26.55, 26.55, 7.2292, 14.0, 6.4958, 57.0, 7.775, 13.0, 7.75, 50.0, 78.85, 26.55, 7.55, 36.75, 30.6958, 8.85, 52.5542, 31.3875, 8.05, 46.9, 24.15, 12.35, 18.0, 7.725, 25.4667, 30.0, 16.1, 8.6625, 10.5, 3.1708, 10.5, 7.75, 14.4, 262.375, 52.5542, 27.0, 21.6792, 146.5208, 25.4667, 7.75, 36.75, 56.4958, 13.0, 7.25, 59.4, 7.75, 22.3583, 30.5, 13.0, 7.7958, 26.0, 133.65, 15.5, 7.6292, 7.775, 16.1, 7.925, 7.8958]}],\n",
       "                        {\"barmode\": \"overlay\", \"legend\": {\"bgcolor\": \"#F5F6F9\", \"font\": {\"color\": \"#4D5663\"}}, \"paper_bgcolor\": \"#F5F6F9\", \"plot_bgcolor\": \"#F5F6F9\", \"template\": {\"data\": {\"bar\": [{\"error_x\": {\"color\": \"#2a3f5f\"}, \"error_y\": {\"color\": \"#2a3f5f\"}, \"marker\": {\"line\": {\"color\": \"#E5ECF6\", \"width\": 0.5}}, \"type\": \"bar\"}], \"barpolar\": [{\"marker\": {\"line\": {\"color\": \"#E5ECF6\", \"width\": 0.5}}, \"type\": \"barpolar\"}], \"carpet\": [{\"aaxis\": {\"endlinecolor\": \"#2a3f5f\", \"gridcolor\": \"white\", \"linecolor\": \"white\", \"minorgridcolor\": \"white\", \"startlinecolor\": \"#2a3f5f\"}, \"baxis\": {\"endlinecolor\": \"#2a3f5f\", \"gridcolor\": \"white\", \"linecolor\": \"white\", \"minorgridcolor\": \"white\", \"startlinecolor\": \"#2a3f5f\"}, \"type\": \"carpet\"}], \"choropleth\": [{\"colorbar\": {\"outlinewidth\": 0, \"ticks\": \"\"}, \"type\": \"choropleth\"}], \"contour\": [{\"colorbar\": {\"outlinewidth\": 0, \"ticks\": \"\"}, \"colorscale\": [[0.0, \"#0d0887\"], [0.1111111111111111, \"#46039f\"], [0.2222222222222222, \"#7201a8\"], [0.3333333333333333, \"#9c179e\"], [0.4444444444444444, \"#bd3786\"], [0.5555555555555556, \"#d8576b\"], [0.6666666666666666, \"#ed7953\"], [0.7777777777777778, \"#fb9f3a\"], [0.8888888888888888, \"#fdca26\"], [1.0, \"#f0f921\"]], \"type\": \"contour\"}], \"contourcarpet\": [{\"colorbar\": {\"outlinewidth\": 0, \"ticks\": \"\"}, \"type\": \"contourcarpet\"}], \"heatmap\": [{\"colorbar\": {\"outlinewidth\": 0, \"ticks\": \"\"}, \"colorscale\": [[0.0, \"#0d0887\"], [0.1111111111111111, \"#46039f\"], [0.2222222222222222, \"#7201a8\"], [0.3333333333333333, \"#9c179e\"], [0.4444444444444444, \"#bd3786\"], [0.5555555555555556, \"#d8576b\"], [0.6666666666666666, \"#ed7953\"], [0.7777777777777778, \"#fb9f3a\"], [0.8888888888888888, \"#fdca26\"], [1.0, \"#f0f921\"]], \"type\": \"heatmap\"}], \"heatmapgl\": [{\"colorbar\": {\"outlinewidth\": 0, \"ticks\": \"\"}, \"colorscale\": [[0.0, \"#0d0887\"], [0.1111111111111111, \"#46039f\"], [0.2222222222222222, \"#7201a8\"], [0.3333333333333333, \"#9c179e\"], [0.4444444444444444, \"#bd3786\"], [0.5555555555555556, \"#d8576b\"], [0.6666666666666666, \"#ed7953\"], [0.7777777777777778, \"#fb9f3a\"], [0.8888888888888888, \"#fdca26\"], [1.0, \"#f0f921\"]], \"type\": \"heatmapgl\"}], \"histogram\": [{\"marker\": {\"colorbar\": {\"outlinewidth\": 0, \"ticks\": \"\"}}, \"type\": \"histogram\"}], \"histogram2d\": [{\"colorbar\": {\"outlinewidth\": 0, \"ticks\": \"\"}, \"colorscale\": [[0.0, \"#0d0887\"], [0.1111111111111111, \"#46039f\"], [0.2222222222222222, \"#7201a8\"], [0.3333333333333333, \"#9c179e\"], [0.4444444444444444, \"#bd3786\"], [0.5555555555555556, \"#d8576b\"], [0.6666666666666666, \"#ed7953\"], [0.7777777777777778, \"#fb9f3a\"], [0.8888888888888888, \"#fdca26\"], [1.0, \"#f0f921\"]], \"type\": \"histogram2d\"}], \"histogram2dcontour\": [{\"colorbar\": {\"outlinewidth\": 0, \"ticks\": \"\"}, \"colorscale\": [[0.0, \"#0d0887\"], [0.1111111111111111, \"#46039f\"], [0.2222222222222222, \"#7201a8\"], [0.3333333333333333, \"#9c179e\"], [0.4444444444444444, \"#bd3786\"], [0.5555555555555556, \"#d8576b\"], [0.6666666666666666, \"#ed7953\"], [0.7777777777777778, \"#fb9f3a\"], [0.8888888888888888, \"#fdca26\"], [1.0, \"#f0f921\"]], \"type\": \"histogram2dcontour\"}], \"mesh3d\": [{\"colorbar\": {\"outlinewidth\": 0, \"ticks\": \"\"}, \"type\": \"mesh3d\"}], \"parcoords\": [{\"line\": {\"colorbar\": {\"outlinewidth\": 0, \"ticks\": \"\"}}, \"type\": \"parcoords\"}], \"pie\": [{\"automargin\": true, \"type\": \"pie\"}], \"scatter\": [{\"marker\": {\"colorbar\": {\"outlinewidth\": 0, \"ticks\": \"\"}}, \"type\": \"scatter\"}], \"scatter3d\": [{\"line\": {\"colorbar\": {\"outlinewidth\": 0, \"ticks\": \"\"}}, \"marker\": {\"colorbar\": {\"outlinewidth\": 0, \"ticks\": \"\"}}, \"type\": \"scatter3d\"}], \"scattercarpet\": [{\"marker\": {\"colorbar\": {\"outlinewidth\": 0, \"ticks\": \"\"}}, \"type\": \"scattercarpet\"}], \"scattergeo\": [{\"marker\": {\"colorbar\": {\"outlinewidth\": 0, \"ticks\": \"\"}}, \"type\": \"scattergeo\"}], \"scattergl\": [{\"marker\": {\"colorbar\": {\"outlinewidth\": 0, \"ticks\": \"\"}}, \"type\": \"scattergl\"}], \"scattermapbox\": [{\"marker\": {\"colorbar\": {\"outlinewidth\": 0, \"ticks\": \"\"}}, \"type\": \"scattermapbox\"}], \"scatterpolar\": [{\"marker\": {\"colorbar\": {\"outlinewidth\": 0, \"ticks\": \"\"}}, \"type\": \"scatterpolar\"}], \"scatterpolargl\": [{\"marker\": {\"colorbar\": {\"outlinewidth\": 0, \"ticks\": \"\"}}, \"type\": \"scatterpolargl\"}], \"scatterternary\": [{\"marker\": {\"colorbar\": {\"outlinewidth\": 0, \"ticks\": \"\"}}, \"type\": \"scatterternary\"}], \"surface\": [{\"colorbar\": {\"outlinewidth\": 0, \"ticks\": \"\"}, \"colorscale\": [[0.0, \"#0d0887\"], [0.1111111111111111, \"#46039f\"], [0.2222222222222222, \"#7201a8\"], [0.3333333333333333, \"#9c179e\"], [0.4444444444444444, \"#bd3786\"], [0.5555555555555556, \"#d8576b\"], [0.6666666666666666, \"#ed7953\"], [0.7777777777777778, \"#fb9f3a\"], [0.8888888888888888, \"#fdca26\"], [1.0, \"#f0f921\"]], \"type\": \"surface\"}], \"table\": [{\"cells\": {\"fill\": {\"color\": \"#EBF0F8\"}, \"line\": {\"color\": \"white\"}}, \"header\": {\"fill\": {\"color\": \"#C8D4E3\"}, \"line\": {\"color\": \"white\"}}, \"type\": \"table\"}]}, \"layout\": {\"annotationdefaults\": {\"arrowcolor\": \"#2a3f5f\", \"arrowhead\": 0, \"arrowwidth\": 1}, \"coloraxis\": {\"colorbar\": {\"outlinewidth\": 0, \"ticks\": \"\"}}, \"colorscale\": {\"diverging\": [[0, \"#8e0152\"], [0.1, \"#c51b7d\"], [0.2, \"#de77ae\"], [0.3, \"#f1b6da\"], [0.4, \"#fde0ef\"], [0.5, \"#f7f7f7\"], [0.6, \"#e6f5d0\"], [0.7, \"#b8e186\"], [0.8, \"#7fbc41\"], [0.9, \"#4d9221\"], [1, \"#276419\"]], \"sequential\": [[0.0, \"#0d0887\"], [0.1111111111111111, \"#46039f\"], [0.2222222222222222, \"#7201a8\"], [0.3333333333333333, \"#9c179e\"], [0.4444444444444444, \"#bd3786\"], [0.5555555555555556, \"#d8576b\"], [0.6666666666666666, \"#ed7953\"], [0.7777777777777778, \"#fb9f3a\"], [0.8888888888888888, \"#fdca26\"], [1.0, \"#f0f921\"]], \"sequentialminus\": [[0.0, \"#0d0887\"], [0.1111111111111111, \"#46039f\"], [0.2222222222222222, \"#7201a8\"], [0.3333333333333333, \"#9c179e\"], [0.4444444444444444, \"#bd3786\"], [0.5555555555555556, \"#d8576b\"], [0.6666666666666666, \"#ed7953\"], [0.7777777777777778, \"#fb9f3a\"], [0.8888888888888888, \"#fdca26\"], [1.0, \"#f0f921\"]]}, \"colorway\": [\"#636efa\", \"#EF553B\", \"#00cc96\", \"#ab63fa\", \"#FFA15A\", \"#19d3f3\", \"#FF6692\", \"#B6E880\", \"#FF97FF\", \"#FECB52\"], \"font\": {\"color\": \"#2a3f5f\"}, \"geo\": {\"bgcolor\": \"white\", \"lakecolor\": \"white\", \"landcolor\": \"#E5ECF6\", \"showlakes\": true, \"showland\": true, \"subunitcolor\": \"white\"}, \"hoverlabel\": {\"align\": \"left\"}, \"hovermode\": \"closest\", \"mapbox\": {\"style\": \"light\"}, \"paper_bgcolor\": \"white\", \"plot_bgcolor\": \"#E5ECF6\", \"polar\": {\"angularaxis\": {\"gridcolor\": \"white\", \"linecolor\": \"white\", \"ticks\": \"\"}, \"bgcolor\": \"#E5ECF6\", \"radialaxis\": {\"gridcolor\": \"white\", \"linecolor\": \"white\", \"ticks\": \"\"}}, \"scene\": {\"xaxis\": {\"backgroundcolor\": \"#E5ECF6\", \"gridcolor\": \"white\", \"gridwidth\": 2, \"linecolor\": \"white\", \"showbackground\": true, \"ticks\": \"\", \"zerolinecolor\": \"white\"}, \"yaxis\": {\"backgroundcolor\": \"#E5ECF6\", \"gridcolor\": \"white\", \"gridwidth\": 2, \"linecolor\": \"white\", \"showbackground\": true, \"ticks\": \"\", \"zerolinecolor\": \"white\"}, \"zaxis\": {\"backgroundcolor\": \"#E5ECF6\", \"gridcolor\": \"white\", \"gridwidth\": 2, \"linecolor\": \"white\", \"showbackground\": true, \"ticks\": \"\", \"zerolinecolor\": \"white\"}}, \"shapedefaults\": {\"line\": {\"color\": \"#2a3f5f\"}}, \"ternary\": {\"aaxis\": {\"gridcolor\": \"white\", \"linecolor\": \"white\", \"ticks\": \"\"}, \"baxis\": {\"gridcolor\": \"white\", \"linecolor\": \"white\", \"ticks\": \"\"}, \"bgcolor\": \"#E5ECF6\", \"caxis\": {\"gridcolor\": \"white\", \"linecolor\": \"white\", \"ticks\": \"\"}}, \"title\": {\"x\": 0.05}, \"xaxis\": {\"automargin\": true, \"gridcolor\": \"white\", \"linecolor\": \"white\", \"ticks\": \"\", \"title\": {\"standoff\": 15}, \"zerolinecolor\": \"white\", \"zerolinewidth\": 2}, \"yaxis\": {\"automargin\": true, \"gridcolor\": \"white\", \"linecolor\": \"white\", \"ticks\": \"\", \"title\": {\"standoff\": 15}, \"zerolinecolor\": \"white\", \"zerolinewidth\": 2}}}, \"title\": {\"font\": {\"color\": \"#4D5663\"}}, \"xaxis\": {\"gridcolor\": \"#E1E5ED\", \"showgrid\": true, \"tickfont\": {\"color\": \"#4D5663\"}, \"title\": {\"font\": {\"color\": \"#4D5663\"}, \"text\": \"\"}, \"zerolinecolor\": \"#E1E5ED\"}, \"yaxis\": {\"gridcolor\": \"#E1E5ED\", \"showgrid\": true, \"tickfont\": {\"color\": \"#4D5663\"}, \"title\": {\"font\": {\"color\": \"#4D5663\"}, \"text\": \"\"}, \"zerolinecolor\": \"#E1E5ED\"}},\n",
       "                        {\"showLink\": true, \"linkText\": \"Export to plot.ly\", \"plotlyServerURL\": \"https://plot.ly\", \"responsive\": true}\n",
       "                    ).then(function(){\n",
       "                            \n",
       "var gd = document.getElementById('69bf3457-1507-44fe-a9e4-94404b0433c7');\n",
       "var x = new MutationObserver(function (mutations, observer) {{\n",
       "        var display = window.getComputedStyle(gd).display;\n",
       "        if (!display || display === 'none') {{\n",
       "            console.log([gd, 'removed!']);\n",
       "            Plotly.purge(gd);\n",
       "            observer.disconnect();\n",
       "        }}\n",
       "}});\n",
       "\n",
       "// Listen for the removal of the full notebook cells\n",
       "var notebookContainer = gd.closest('#notebook-container');\n",
       "if (notebookContainer) {{\n",
       "    x.observe(notebookContainer, {childList: true});\n",
       "}}\n",
       "\n",
       "// Listen for the clearing of the current output cell\n",
       "var outputEl = gd.closest('.output');\n",
       "if (outputEl) {{\n",
       "    x.observe(outputEl, {childList: true});\n",
       "}}\n",
       "\n",
       "                        })\n",
       "                };\n",
       "                });\n",
       "            </script>\n",
       "        </div>"
      ]
     },
     "metadata": {},
     "output_type": "display_data"
    }
   ],
   "source": [
    "dataset['fare'].iplot(kind='hist',bins = 30)"
   ]
  },
  {
   "cell_type": "code",
   "execution_count": 447,
   "metadata": {},
   "outputs": [
    {
     "data": {
      "text/plain": [
       "<matplotlib.axes._subplots.AxesSubplot at 0x7f04b680b590>"
      ]
     },
     "execution_count": 447,
     "metadata": {},
     "output_type": "execute_result"
    },
    {
     "data": {
      "image/png": "[encoded data removed]",
      "text/plain": [
       "<Figure size 1440x504 with 1 Axes>"
      ]
     },
     "metadata": {},
     "output_type": "display_data"
    }
   ],
   "source": [
    "\n",
    "plt.figure(figsize =(20,7))\n",
    "sns.boxplot(x='ticket_class',y = 'age', data =dataset )"
   ]
  },
  {
   "cell_type": "code",
   "execution_count": 448,
   "metadata": {},
   "outputs": [],
   "source": [
    "def impute_age(cols):\n",
    "    age = cols[0]\n",
    "    ticket_class = cols[1]\n",
    "    \n",
    "    if pd.isnull(age):\n",
    "        if ticket_class == 1:\n",
    "            return 37\n",
    "        elif ticket_class == 2:\n",
    "            return 29\n",
    "        else:\n",
    "            return 24\n",
    "    else:\n",
    "        return age"
   ]
  },
  {
   "cell_type": "code",
   "execution_count": 449,
   "metadata": {},
   "outputs": [],
   "source": [
    "dataset['age'] = dataset[['age','ticket_class']].apply(impute_age,axis = 1)\n",
    "dataset_test['age'] = dataset_test[['age','ticket_class']].apply(impute_age,axis = 1)"
   ]
  },
  {
   "cell_type": "code",
   "execution_count": 452,
   "metadata": {},
   "outputs": [
    {
     "data": {
      "text/plain": [
       "<matplotlib.axes._subplots.AxesSubplot at 0x7f04bc6bda10>"
      ]
     },
     "execution_count": 452,
     "metadata": {},
     "output_type": "execute_result"
    },
    {
     "data": {
      "image/png": "[encoded data removed]",
      "text/plain": [
       "<Figure size 432x288 with 1 Axes>"
      ]
     },
     "metadata": {},
     "output_type": "display_data"
    }
   ],
   "source": [
    "sns.heatmap(dataset.isnull(),yticklabels=False,cbar = False,cmap = 'viridis')"
   ]
  },
  {
   "cell_type": "code",
   "execution_count": 454,
   "metadata": {},
   "outputs": [],
   "source": [
    "dataset.drop('cabin',axis = 1,inplace = True)\n",
    "dataset.drop('MedBoat',axis = 1,inplace = True)  \n",
    "dataset_test.drop('cabin',axis = 1,inplace = True)\n",
    "dataset_test.drop('MedBoat',axis = 1,inplace = True)   "
   ]
  },
  {
   "cell_type": "code",
   "execution_count": 455,
   "metadata": {},
   "outputs": [
    {
     "data": {
      "text/html": [
       "<div>\n",
       "<style scoped>\n",
       "    .dataframe tbody tr th:only-of-type {\n",
       "        vertical-align: middle;\n",
       "    }\n",
       "\n",
       "    .dataframe tbody tr th {\n",
       "        vertical-align: top;\n",
       "    }\n",
       "\n",
       "    .dataframe thead th {\n",
       "        text-align: right;\n",
       "    }\n",
       "</style>\n",
       "<table border=\"1\" class=\"dataframe\">\n",
       "  <thead>\n",
       "    <tr style=\"text-align: right;\">\n",
       "      <th></th>\n",
       "      <th>ticket_class</th>\n",
       "      <th>age</th>\n",
       "      <th>Siblings_spouses</th>\n",
       "      <th>Parchil</th>\n",
       "      <th>fare</th>\n",
       "      <th>Survived</th>\n",
       "      <th>male</th>\n",
       "      <th>Q</th>\n",
       "      <th>S</th>\n",
       "    </tr>\n",
       "  </thead>\n",
       "  <tbody>\n",
       "    <tr>\n",
       "      <td>0</td>\n",
       "      <td>3</td>\n",
       "      <td>24.0</td>\n",
       "      <td>0</td>\n",
       "      <td>0</td>\n",
       "      <td>8.6625</td>\n",
       "      <td>0</td>\n",
       "      <td>1.0</td>\n",
       "      <td>0</td>\n",
       "      <td>1</td>\n",
       "    </tr>\n",
       "    <tr>\n",
       "      <td>1</td>\n",
       "      <td>3</td>\n",
       "      <td>26.0</td>\n",
       "      <td>0</td>\n",
       "      <td>0</td>\n",
       "      <td>7.8958</td>\n",
       "      <td>0</td>\n",
       "      <td>1.0</td>\n",
       "      <td>0</td>\n",
       "      <td>1</td>\n",
       "    </tr>\n",
       "    <tr>\n",
       "      <td>2</td>\n",
       "      <td>2</td>\n",
       "      <td>19.0</td>\n",
       "      <td>0</td>\n",
       "      <td>0</td>\n",
       "      <td>26.0000</td>\n",
       "      <td>1</td>\n",
       "      <td>1.0</td>\n",
       "      <td>0</td>\n",
       "      <td>1</td>\n",
       "    </tr>\n",
       "    <tr>\n",
       "      <td>3</td>\n",
       "      <td>3</td>\n",
       "      <td>24.0</td>\n",
       "      <td>8</td>\n",
       "      <td>2</td>\n",
       "      <td>69.5500</td>\n",
       "      <td>0</td>\n",
       "      <td>1.0</td>\n",
       "      <td>0</td>\n",
       "      <td>1</td>\n",
       "    </tr>\n",
       "    <tr>\n",
       "      <td>4</td>\n",
       "      <td>3</td>\n",
       "      <td>28.0</td>\n",
       "      <td>0</td>\n",
       "      <td>0</td>\n",
       "      <td>7.7750</td>\n",
       "      <td>0</td>\n",
       "      <td>1.0</td>\n",
       "      <td>0</td>\n",
       "      <td>1</td>\n",
       "    </tr>\n",
       "  </tbody>\n",
       "</table>\n",
       "</div>"
      ],
      "text/plain": [
       "   ticket_class   age  Siblings_spouses  Parchil     fare  Survived  male  Q  \\\n",
       "0             3  24.0                 0        0   8.6625         0   1.0  0   \n",
       "1             3  26.0                 0        0   7.8958         0   1.0  0   \n",
       "2             2  19.0                 0        0  26.0000         1   1.0  0   \n",
       "3             3  24.0                 8        2  69.5500         0   1.0  0   \n",
       "4             3  28.0                 0        0   7.7750         0   1.0  0   \n",
       "\n",
       "   S  \n",
       "0  1  \n",
       "1  1  \n",
       "2  1  \n",
       "3  1  \n",
       "4  1  "
      ]
     },
     "execution_count": 455,
     "metadata": {},
     "output_type": "execute_result"
    }
   ],
   "source": [
    "dataset.head()"
   ]
  },
  {
   "cell_type": "code",
   "execution_count": 456,
   "metadata": {},
   "outputs": [],
   "source": [
    "dataset.dropna(inplace = True)\n",
    "dataset_test.dropna(inplace = True)"
   ]
  },
  {
   "cell_type": "code",
   "execution_count": 458,
   "metadata": {},
   "outputs": [],
   "source": [
    "sex  = pd.get_dummies(dataset['sex'],drop_first = True)\n",
    "sex  = pd.get_dummies(dataset_test['sex'],drop_first = True)"
   ]
  },
  {
   "cell_type": "code",
   "execution_count": 424,
   "metadata": {},
   "outputs": [],
   "source": [
    "embarked = pd.get_dummies(dataset_test['embarked'],drop_first = True)\n",
    "embarked = pd.get_dummies(dataset['embarked'],drop_first = True)"
   ]
  },
  {
   "cell_type": "code",
   "execution_count": 425,
   "metadata": {},
   "outputs": [],
   "source": [
    "dataset_test = pd.concat([dataset_test,sex,embarked],axis = 1)\n",
    "dataset = pd.concat([dataset,sex,embarked],axis = 1)"
   ]
  },
  {
   "cell_type": "code",
   "execution_count": 426,
   "metadata": {},
   "outputs": [
    {
     "data": {
      "text/html": [
       "<div>\n",
       "<style scoped>\n",
       "    .dataframe tbody tr th:only-of-type {\n",
       "        vertical-align: middle;\n",
       "    }\n",
       "\n",
       "    .dataframe tbody tr th {\n",
       "        vertical-align: top;\n",
       "    }\n",
       "\n",
       "    .dataframe thead th {\n",
       "        text-align: right;\n",
       "    }\n",
       "</style>\n",
       "<table border=\"1\" class=\"dataframe\">\n",
       "  <thead>\n",
       "    <tr style=\"text-align: right;\">\n",
       "      <th></th>\n",
       "      <th>traveller_ID</th>\n",
       "      <th>ticket_class</th>\n",
       "      <th>name</th>\n",
       "      <th>sex</th>\n",
       "      <th>age</th>\n",
       "      <th>Siblings_spouses</th>\n",
       "      <th>Parchil</th>\n",
       "      <th>TickNum</th>\n",
       "      <th>fare</th>\n",
       "      <th>embarked</th>\n",
       "      <th>Survived</th>\n",
       "      <th>male</th>\n",
       "      <th>Q</th>\n",
       "      <th>S</th>\n",
       "    </tr>\n",
       "  </thead>\n",
       "  <tbody>\n",
       "    <tr>\n",
       "      <td>0</td>\n",
       "      <td>1214</td>\n",
       "      <td>3</td>\n",
       "      <td>Smiljanic, Mr. Mile</td>\n",
       "      <td>male</td>\n",
       "      <td>24.0</td>\n",
       "      <td>0</td>\n",
       "      <td>0</td>\n",
       "      <td>315037</td>\n",
       "      <td>8.6625</td>\n",
       "      <td>S</td>\n",
       "      <td>0</td>\n",
       "      <td>1.0</td>\n",
       "      <td>0</td>\n",
       "      <td>1</td>\n",
       "    </tr>\n",
       "    <tr>\n",
       "      <td>1</td>\n",
       "      <td>677</td>\n",
       "      <td>3</td>\n",
       "      <td>Bostandyeff, Mr. Guentcho</td>\n",
       "      <td>male</td>\n",
       "      <td>26.0</td>\n",
       "      <td>0</td>\n",
       "      <td>0</td>\n",
       "      <td>349224</td>\n",
       "      <td>7.8958</td>\n",
       "      <td>S</td>\n",
       "      <td>0</td>\n",
       "      <td>1.0</td>\n",
       "      <td>0</td>\n",
       "      <td>1</td>\n",
       "    </tr>\n",
       "    <tr>\n",
       "      <td>2</td>\n",
       "      <td>534</td>\n",
       "      <td>2</td>\n",
       "      <td>Phillips, Miss. Kate Florence (\"Mrs Kate Louis...</td>\n",
       "      <td>female</td>\n",
       "      <td>19.0</td>\n",
       "      <td>0</td>\n",
       "      <td>0</td>\n",
       "      <td>250655</td>\n",
       "      <td>26.0000</td>\n",
       "      <td>S</td>\n",
       "      <td>1</td>\n",
       "      <td>1.0</td>\n",
       "      <td>0</td>\n",
       "      <td>1</td>\n",
       "    </tr>\n",
       "    <tr>\n",
       "      <td>3</td>\n",
       "      <td>1174</td>\n",
       "      <td>3</td>\n",
       "      <td>Sage, Miss. Dorothy Edith \"Dolly\"</td>\n",
       "      <td>female</td>\n",
       "      <td>24.0</td>\n",
       "      <td>8</td>\n",
       "      <td>2</td>\n",
       "      <td>CA. 2343</td>\n",
       "      <td>69.5500</td>\n",
       "      <td>S</td>\n",
       "      <td>0</td>\n",
       "      <td>1.0</td>\n",
       "      <td>0</td>\n",
       "      <td>1</td>\n",
       "    </tr>\n",
       "    <tr>\n",
       "      <td>4</td>\n",
       "      <td>864</td>\n",
       "      <td>3</td>\n",
       "      <td>Henriksson, Miss. Jenny Lovisa</td>\n",
       "      <td>female</td>\n",
       "      <td>28.0</td>\n",
       "      <td>0</td>\n",
       "      <td>0</td>\n",
       "      <td>347086</td>\n",
       "      <td>7.7750</td>\n",
       "      <td>S</td>\n",
       "      <td>0</td>\n",
       "      <td>1.0</td>\n",
       "      <td>0</td>\n",
       "      <td>1</td>\n",
       "    </tr>\n",
       "  </tbody>\n",
       "</table>\n",
       "</div>"
      ],
      "text/plain": [
       "   traveller_ID  ticket_class  \\\n",
       "0          1214             3   \n",
       "1           677             3   \n",
       "2           534             2   \n",
       "3          1174             3   \n",
       "4           864             3   \n",
       "\n",
       "                                                name     sex   age  \\\n",
       "0                                Smiljanic, Mr. Mile    male  24.0   \n",
       "1                          Bostandyeff, Mr. Guentcho    male  26.0   \n",
       "2  Phillips, Miss. Kate Florence (\"Mrs Kate Louis...  female  19.0   \n",
       "3                  Sage, Miss. Dorothy Edith \"Dolly\"  female  24.0   \n",
       "4                     Henriksson, Miss. Jenny Lovisa  female  28.0   \n",
       "\n",
       "   Siblings_spouses  Parchil   TickNum     fare embarked  Survived  male  Q  S  \n",
       "0                 0        0    315037   8.6625        S         0   1.0  0  1  \n",
       "1                 0        0    349224   7.8958        S         0   1.0  0  1  \n",
       "2                 0        0    250655  26.0000        S         1   1.0  0  1  \n",
       "3                 8        2  CA. 2343  69.5500        S         0   1.0  0  1  \n",
       "4                 0        0    347086   7.7750        S         0   1.0  0  1  "
      ]
     },
     "execution_count": 426,
     "metadata": {},
     "output_type": "execute_result"
    }
   ],
   "source": [
    "dataset.head()"
   ]
  },
  {
   "cell_type": "code",
   "execution_count": 427,
   "metadata": {},
   "outputs": [],
   "source": [
    "dataset_test.drop(['sex','name','embarked','TickNum'],axis = 1, inplace = True)\n",
    "dataset.drop(['sex','name','embarked','TickNum'],axis = 1, inplace = True)"
   ]
  },
  {
   "cell_type": "code",
   "execution_count": 428,
   "metadata": {},
   "outputs": [
    {
     "data": {
      "text/html": [
       "<div>\n",
       "<style scoped>\n",
       "    .dataframe tbody tr th:only-of-type {\n",
       "        vertical-align: middle;\n",
       "    }\n",
       "\n",
       "    .dataframe tbody tr th {\n",
       "        vertical-align: top;\n",
       "    }\n",
       "\n",
       "    .dataframe thead th {\n",
       "        text-align: right;\n",
       "    }\n",
       "</style>\n",
       "<table border=\"1\" class=\"dataframe\">\n",
       "  <thead>\n",
       "    <tr style=\"text-align: right;\">\n",
       "      <th></th>\n",
       "      <th>traveller_ID</th>\n",
       "      <th>ticket_class</th>\n",
       "      <th>age</th>\n",
       "      <th>Siblings_spouses</th>\n",
       "      <th>Parchil</th>\n",
       "      <th>fare</th>\n",
       "      <th>Survived</th>\n",
       "      <th>male</th>\n",
       "      <th>Q</th>\n",
       "      <th>S</th>\n",
       "    </tr>\n",
       "  </thead>\n",
       "  <tbody>\n",
       "    <tr>\n",
       "      <td>0</td>\n",
       "      <td>1214</td>\n",
       "      <td>3</td>\n",
       "      <td>24.0</td>\n",
       "      <td>0</td>\n",
       "      <td>0</td>\n",
       "      <td>8.6625</td>\n",
       "      <td>0</td>\n",
       "      <td>1.0</td>\n",
       "      <td>0</td>\n",
       "      <td>1</td>\n",
       "    </tr>\n",
       "    <tr>\n",
       "      <td>1</td>\n",
       "      <td>677</td>\n",
       "      <td>3</td>\n",
       "      <td>26.0</td>\n",
       "      <td>0</td>\n",
       "      <td>0</td>\n",
       "      <td>7.8958</td>\n",
       "      <td>0</td>\n",
       "      <td>1.0</td>\n",
       "      <td>0</td>\n",
       "      <td>1</td>\n",
       "    </tr>\n",
       "    <tr>\n",
       "      <td>2</td>\n",
       "      <td>534</td>\n",
       "      <td>2</td>\n",
       "      <td>19.0</td>\n",
       "      <td>0</td>\n",
       "      <td>0</td>\n",
       "      <td>26.0000</td>\n",
       "      <td>1</td>\n",
       "      <td>1.0</td>\n",
       "      <td>0</td>\n",
       "      <td>1</td>\n",
       "    </tr>\n",
       "    <tr>\n",
       "      <td>3</td>\n",
       "      <td>1174</td>\n",
       "      <td>3</td>\n",
       "      <td>24.0</td>\n",
       "      <td>8</td>\n",
       "      <td>2</td>\n",
       "      <td>69.5500</td>\n",
       "      <td>0</td>\n",
       "      <td>1.0</td>\n",
       "      <td>0</td>\n",
       "      <td>1</td>\n",
       "    </tr>\n",
       "    <tr>\n",
       "      <td>4</td>\n",
       "      <td>864</td>\n",
       "      <td>3</td>\n",
       "      <td>28.0</td>\n",
       "      <td>0</td>\n",
       "      <td>0</td>\n",
       "      <td>7.7750</td>\n",
       "      <td>0</td>\n",
       "      <td>1.0</td>\n",
       "      <td>0</td>\n",
       "      <td>1</td>\n",
       "    </tr>\n",
       "  </tbody>\n",
       "</table>\n",
       "</div>"
      ],
      "text/plain": [
       "   traveller_ID  ticket_class   age  Siblings_spouses  Parchil     fare  \\\n",
       "0          1214             3  24.0                 0        0   8.6625   \n",
       "1           677             3  26.0                 0        0   7.8958   \n",
       "2           534             2  19.0                 0        0  26.0000   \n",
       "3          1174             3  24.0                 8        2  69.5500   \n",
       "4           864             3  28.0                 0        0   7.7750   \n",
       "\n",
       "   Survived  male  Q  S  \n",
       "0         0   1.0  0  1  \n",
       "1         0   1.0  0  1  \n",
       "2         1   1.0  0  1  \n",
       "3         0   1.0  0  1  \n",
       "4         0   1.0  0  1  "
      ]
     },
     "execution_count": 428,
     "metadata": {},
     "output_type": "execute_result"
    }
   ],
   "source": [
    "dataset.head()"
   ]
  },
  {
   "cell_type": "code",
   "execution_count": 436,
   "metadata": {},
   "outputs": [],
   "source": [
    "dataset.drop(['traveller_ID'],axis = 1, inplace = True)"
   ]
  },
  {
   "cell_type": "code",
   "execution_count": 437,
   "metadata": {},
   "outputs": [
    {
     "data": {
      "text/html": [
       "<div>\n",
       "<style scoped>\n",
       "    .dataframe tbody tr th:only-of-type {\n",
       "        vertical-align: middle;\n",
       "    }\n",
       "\n",
       "    .dataframe tbody tr th {\n",
       "        vertical-align: top;\n",
       "    }\n",
       "\n",
       "    .dataframe thead th {\n",
       "        text-align: right;\n",
       "    }\n",
       "</style>\n",
       "<table border=\"1\" class=\"dataframe\">\n",
       "  <thead>\n",
       "    <tr style=\"text-align: right;\">\n",
       "      <th></th>\n",
       "      <th>traveller_ID</th>\n",
       "      <th>ticket_class</th>\n",
       "      <th>age</th>\n",
       "      <th>Siblings_spouses</th>\n",
       "      <th>Parchil</th>\n",
       "      <th>fare</th>\n",
       "      <th>male</th>\n",
       "      <th>Q</th>\n",
       "      <th>S</th>\n",
       "    </tr>\n",
       "  </thead>\n",
       "  <tbody>\n",
       "    <tr>\n",
       "      <td>0</td>\n",
       "      <td>1148.0</td>\n",
       "      <td>3.0</td>\n",
       "      <td>35.0</td>\n",
       "      <td>0.0</td>\n",
       "      <td>0.0</td>\n",
       "      <td>7.1250</td>\n",
       "      <td>1.0</td>\n",
       "      <td>0</td>\n",
       "      <td>1</td>\n",
       "    </tr>\n",
       "    <tr>\n",
       "      <td>1</td>\n",
       "      <td>1049.0</td>\n",
       "      <td>3.0</td>\n",
       "      <td>20.0</td>\n",
       "      <td>1.0</td>\n",
       "      <td>1.0</td>\n",
       "      <td>15.7417</td>\n",
       "      <td>1.0</td>\n",
       "      <td>0</td>\n",
       "      <td>1</td>\n",
       "    </tr>\n",
       "    <tr>\n",
       "      <td>2</td>\n",
       "      <td>982.0</td>\n",
       "      <td>3.0</td>\n",
       "      <td>24.0</td>\n",
       "      <td>0.0</td>\n",
       "      <td>0.0</td>\n",
       "      <td>7.8958</td>\n",
       "      <td>1.0</td>\n",
       "      <td>0</td>\n",
       "      <td>1</td>\n",
       "    </tr>\n",
       "    <tr>\n",
       "      <td>3</td>\n",
       "      <td>808.0</td>\n",
       "      <td>3.0</td>\n",
       "      <td>24.0</td>\n",
       "      <td>0.0</td>\n",
       "      <td>0.0</td>\n",
       "      <td>8.0500</td>\n",
       "      <td>1.0</td>\n",
       "      <td>0</td>\n",
       "      <td>1</td>\n",
       "    </tr>\n",
       "    <tr>\n",
       "      <td>4</td>\n",
       "      <td>1195.0</td>\n",
       "      <td>3.0</td>\n",
       "      <td>24.0</td>\n",
       "      <td>0.0</td>\n",
       "      <td>0.0</td>\n",
       "      <td>7.7500</td>\n",
       "      <td>1.0</td>\n",
       "      <td>0</td>\n",
       "      <td>1</td>\n",
       "    </tr>\n",
       "  </tbody>\n",
       "</table>\n",
       "</div>"
      ],
      "text/plain": [
       "   traveller_ID  ticket_class   age  Siblings_spouses  Parchil     fare  male  \\\n",
       "0        1148.0           3.0  35.0               0.0      0.0   7.1250   1.0   \n",
       "1        1049.0           3.0  20.0               1.0      1.0  15.7417   1.0   \n",
       "2         982.0           3.0  24.0               0.0      0.0   7.8958   1.0   \n",
       "3         808.0           3.0  24.0               0.0      0.0   8.0500   1.0   \n",
       "4        1195.0           3.0  24.0               0.0      0.0   7.7500   1.0   \n",
       "\n",
       "   Q  S  \n",
       "0  0  1  \n",
       "1  0  1  \n",
       "2  0  1  \n",
       "3  0  1  \n",
       "4  0  1  "
      ]
     },
     "execution_count": 437,
     "metadata": {},
     "output_type": "execute_result"
    }
   ],
   "source": [
    "dataset_test.head()"
   ]
  },
  {
   "cell_type": "code",
   "execution_count": 463,
   "metadata": {},
   "outputs": [
    {
     "data": {
      "text/plain": [
       "array([[1.14800e+03, 3.00000e+00, 3.50000e+01, ..., 7.12500e+00,\n",
       "        0.00000e+00, 1.00000e+00],\n",
       "       [1.04900e+03, 3.00000e+00, 2.00000e+01, ..., 1.57417e+01,\n",
       "        0.00000e+00, 1.00000e+00],\n",
       "       [9.82000e+02, 3.00000e+00, 2.40000e+01, ..., 7.89580e+00,\n",
       "        0.00000e+00, 1.00000e+00],\n",
       "       ...,\n",
       "       [5.32000e+02, 2.00000e+00, 4.10000e+01, ..., 1.30000e+01,\n",
       "        1.00000e+00, 0.00000e+00],\n",
       "       [1.15900e+03, 3.00000e+00, 2.40000e+01, ..., 8.05000e+00,\n",
       "        0.00000e+00, 1.00000e+00],\n",
       "       [5.13000e+02, 2.00000e+00, 1.40000e+01, ..., 3.00708e+01,\n",
       "        0.00000e+00, 0.00000e+00]])"
      ]
     },
     "execution_count": 463,
     "metadata": {},
     "output_type": "execute_result"
    }
   ],
   "source": [
    "\n",
    "\n",
    "\n",
    "X_train = dataset.drop('Survived', axis = 1)\n",
    "y_train = dataset['Survived']\n",
    "\n",
    "X_test = dataset_test.iloc[:,[0,1,2,3,4,5,7,8]].values\n",
    "\n",
    "X_test"
   ]
  },
  {
   "cell_type": "code",
   "execution_count": 464,
   "metadata": {},
   "outputs": [
    {
     "data": {
      "text/plain": [
       "LogisticRegression(C=1.0, class_weight=None, dual=False, fit_intercept=True,\n",
       "                   intercept_scaling=1, l1_ratio=None, max_iter=100,\n",
       "                   multi_class='warn', n_jobs=None, penalty='l2',\n",
       "                   random_state=None, solver='warn', tol=0.0001, verbose=0,\n",
       "                   warm_start=False)"
      ]
     },
     "execution_count": 464,
     "metadata": {},
     "output_type": "execute_result"
    }
   ],
   "source": [
    "from sklearn.linear_model import LogisticRegression\n",
    "lg = LogisticRegression()\n",
    "lg.fit(X_train,y_train)"
   ]
  },
  {
   "cell_type": "code",
   "execution_count": 465,
   "metadata": {},
   "outputs": [],
   "source": [
    "Y_pred = lg.predict(X_test)"
   ]
  },
  {
   "cell_type": "code",
   "execution_count": 466,
   "metadata": {},
   "outputs": [
    {
     "data": {
      "text/html": [
       "<div>\n",
       "<style scoped>\n",
       "    .dataframe tbody tr th:only-of-type {\n",
       "        vertical-align: middle;\n",
       "    }\n",
       "\n",
       "    .dataframe tbody tr th {\n",
       "        vertical-align: top;\n",
       "    }\n",
       "\n",
       "    .dataframe thead th {\n",
       "        text-align: right;\n",
       "    }\n",
       "</style>\n",
       "<table border=\"1\" class=\"dataframe\">\n",
       "  <thead>\n",
       "    <tr style=\"text-align: right;\">\n",
       "      <th></th>\n",
       "      <th>Traveller_ID</th>\n",
       "      <th>Survived</th>\n",
       "    </tr>\n",
       "  </thead>\n",
       "  <tbody>\n",
       "    <tr>\n",
       "      <td>0</td>\n",
       "      <td>1148.0</td>\n",
       "      <td>0</td>\n",
       "    </tr>\n",
       "    <tr>\n",
       "      <td>1</td>\n",
       "      <td>1049.0</td>\n",
       "      <td>0</td>\n",
       "    </tr>\n",
       "    <tr>\n",
       "      <td>2</td>\n",
       "      <td>982.0</td>\n",
       "      <td>0</td>\n",
       "    </tr>\n",
       "    <tr>\n",
       "      <td>3</td>\n",
       "      <td>808.0</td>\n",
       "      <td>0</td>\n",
       "    </tr>\n",
       "    <tr>\n",
       "      <td>4</td>\n",
       "      <td>1195.0</td>\n",
       "      <td>0</td>\n",
       "    </tr>\n",
       "    <tr>\n",
       "      <td>...</td>\n",
       "      <td>...</td>\n",
       "      <td>...</td>\n",
       "    </tr>\n",
       "    <tr>\n",
       "      <td>387</td>\n",
       "      <td>325.0</td>\n",
       "      <td>0</td>\n",
       "    </tr>\n",
       "    <tr>\n",
       "      <td>388</td>\n",
       "      <td>919.0</td>\n",
       "      <td>0</td>\n",
       "    </tr>\n",
       "    <tr>\n",
       "      <td>389</td>\n",
       "      <td>532.0</td>\n",
       "      <td>0</td>\n",
       "    </tr>\n",
       "    <tr>\n",
       "      <td>390</td>\n",
       "      <td>1159.0</td>\n",
       "      <td>0</td>\n",
       "    </tr>\n",
       "    <tr>\n",
       "      <td>391</td>\n",
       "      <td>513.0</td>\n",
       "      <td>0</td>\n",
       "    </tr>\n",
       "  </tbody>\n",
       "</table>\n",
       "<p>392 rows × 2 columns</p>\n",
       "</div>"
      ],
      "text/plain": [
       "     Traveller_ID  Survived\n",
       "0          1148.0         0\n",
       "1          1049.0         0\n",
       "2           982.0         0\n",
       "3           808.0         0\n",
       "4          1195.0         0\n",
       "..            ...       ...\n",
       "387         325.0         0\n",
       "388         919.0         0\n",
       "389         532.0         0\n",
       "390        1159.0         0\n",
       "391         513.0         0\n",
       "\n",
       "[392 rows x 2 columns]"
      ]
     },
     "execution_count": 466,
     "metadata": {},
     "output_type": "execute_result"
    }
   ],
   "source": [
    "data = pd.DataFrame()\n",
    "data['Traveller_ID'] = dataset_test.iloc[:,0].values\n",
    "data['Survived'] = Y_pred\n",
    "\n",
    "data"
   ]
  },
  {
   "cell_type": "code",
   "execution_count": null,
   "metadata": {},
   "outputs": [],
   "source": []
  },
  {
   "cell_type": "code",
   "execution_count": null,
   "metadata": {},
   "outputs": [],
   "source": []
  }
 ],
 "metadata": {
  "kernelspec": {
   "display_name": "Python 3",
   "language": "python",
   "name": "python3"
  },
  "language_info": {
   "codemirror_mode": {
    "name": "ipython",
    "version": 3
   },
   "file_extension": ".py",
   "mimetype": "text/x-python",
   "name": "python",
   "nbconvert_exporter": "python",
   "pygments_lexer": "ipython3",
   "version": "3.7.4"
  }
 },
 "nbformat": 4,
 "nbformat_minor": 2
}
